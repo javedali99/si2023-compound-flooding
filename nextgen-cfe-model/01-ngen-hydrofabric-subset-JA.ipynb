{
 "cells": [
  {
   "cell_type": "markdown",
   "id": "cc3872d5-fe42-49a0-aee9-823d58af0e11",
   "metadata": {
    "tags": []
   },
   "source": [
    "# Subset NextGen HydroFabric on S3 for New York City\n",
    "\n",
    "**Author:** [Javed Ali](https://www.javedali.net/) (University of Central Florida)  \n",
    " \n",
    "    \n",
    "**Date:** 06.26.2023   \n",
    "\n",
    "**Description**:  \n",
    "\n",
    "The purpose of this Jupyter Notebook is to prepare inputs required to execute the [NOAA Next Generation (NextGen) Water Resource Modeling Framework](https://github.com/NOAA-OWP/ngen). These inputs consist of the following components: \n",
    "\n",
    "- Hydrologic and hydrodynamic graphs based on the National Hydrologic Geospatial (Hydrofabric) data which includes catchments, nexus, and flowlines. \n",
    "- Model domain parameters represented as configuration files.\n",
    "- Meteorological forcing data.\n",
    "\n",
    "The Hydrofabric data can be accessed publicly through the AWS catalog. In this notebook, we use the **pre-release** version of the dataset, which represents the most recent version available on the Amazon S3 Bucket at the time of developing this notebook (https://nextgen-hydrofabric.s3.amazonaws.com/index.html#pre-release/). The configuration files encompass model default parameters, formulations, input and output paths, simulation time step, initial conditions, and other relevant settings. This example demonstrates the retrieval of hydrofabric data, followed by the extraction of necessary infromation for creating the parameter configuration file. These files are created for running Conceptual Functional Equivalent (CFE) model and Simple Logical Tautology Handler (SLoTH) in the NGEN framework. To prepare forcing data, run the *ngen-hydrofabric-subset.ipynb* Jupyter Notebook.\n",
    "\n",
    "**Storms in New York**:\n",
    "\n",
    "| Name                   | Date of Landfall | Date of Impact on NYC        | CFE Time Bounds     | Year  |\n",
    "|------------------------|------------------|------------------------------|---------------------|-------|\n",
    "| Tropical Storm Barry   | 2-Jun-2007       | 5-Jun-2007                   | 31-May to 6-Jun     | 2007  |\n",
    "| Hurricane Hanna        | 6-Sep-2008       | 6-Sep-2008                   | 4-Sep to 8-Sep      | 2008  |\n",
    "| Hurricane Bill         | 22-Aug-2009      | 22-Aug-2009                  | 20-Aug to 24-Aug    | 2009  |\n",
    "| Hurricane Irene        | 29-Aug-2011      | 27-Aug to 28-Aug-2011        | 26-Aug to 30-Aug    | 2011  |\n",
    "| Hurricane Sandy        | 29-Oct-2012      | 28-Oct to 29-Oct-2012        | 26-Oct to 31-Oct    | 2012  |\n",
    "| Tropical Storm Andrea  | 6-Jun-2013       | 7-Jun to 8-Jun-2013          | 4-Jun to 10-Jun     | 2013  |\n",
    "| Hurricane Arthur       | 4-Jul-2014       | 4-Jul-2014                   | 2-Jul to 6-Jul      | 2014  |\n",
    "| Tropical Storm Bill    | 13-Jun-2015      | 21-Jun to 22-Jun-2015        | 11-Jun to 24-Jun    | 2015  |\n",
    "| Tropical Storm Bonnie  | 29-May-2016      | 28-May-2016                  | 27-May to 30-May    | 2016  |\n",
    "| Hurricane Matthew      | 8-Oct-2016       | 9-Oct to 10-Oct-2016         | 6-Oct to 12-Oct     | 2016  |\n",
    "| Tropical Storm Cindy   | 22-Jun-2017      | 19-Jun-2017                  | 18-Jun to 24-Jun    | 2017  |\n",
    "| Hurricane Gert         | -                | 18-Aug-2017                  | 16-Aug to 20-Aug    | 2017  |\n",
    "| Tropical Storm Jose    | -                | 19-Sep to 20-Sep-2017        | 17-Sep to 22-Sep    | 2017  |\n",
    "| Hurricane Maria        | 20-Sep-2017      | 27-Sep-2017                  | 18-Sep to 29-Sep    | 2017  |\n",
    "| Tropical Storm Philippe| 28-Oct-2017      | 28-Oct to 30-Oct-2017        | 26-Oct to 1-Nov     | 2017  |\n",
    "| Tropical Storm Gordon  | 5-Sep-2018       | 8-Sep to 9-Sep-2018          | 3-Sep to 11-Sep     | 2018  |\n",
    "| Hurricane Michael      | 10-Oct-2018      | 11-Oct to 12-Oct-2018        | 8-Oct to 14-Oct     | 2018  |\n",
    "| Hurricane Dorian       | 5-Sep-2019       | 6-Sep to 7-Sep-2019          | 3-Sep to 9-Sep      | 2019  |\n",
    "| Tropical Storm Ogla    | 26-Oct-2019      | 27-Oct-2019                  | 24-Oct to 29-Oct    | 2019  |\n",
    "\n",
    "\n",
    "\n",
    "**Software Requirements**:  \n",
    "\n",
    "The software and operating system versions used to develop this notebook are listed below. To avoid encountering issues related to version conflicts among Python packages, we recommend creating a new environment variable and installing the required packages specifically for this notebook.\n",
    "\n",
    "Tested on: MacOS Ventura 13.2.1  \n",
    "\n",
    "> boto3: 1.26.76  \n",
    "  dask-core: 2023.4.0  \n",
    "  fiona: 1.9.3  \n",
    "  fsspec: 2023.4.0  \n",
    "  geopandas: 0.12.2   \n",
    "  ipyleaflet: 0.17.2  \n",
    "  ipywidgets: 7.7.5   \n",
    "  matplotlib: 3.7.1   \n",
    "  netcdf4: 1.6.3   \n",
    "  numpy: 1.24.2  \n",
    "  pandas: 2.0.0  \n",
    "  requests: 2.28.2  \n",
    "  s3fs: 2023.4.0  \n",
    "  scipy: 1.10.1  \n",
    "  xarray: 2023.4.1\n",
    "  \n",
    "**Supplementary Code**\n",
    "\n",
    "This notebook relies on the following external scripts:  \n",
    "- `subset.py` - A script originally written by Nels Frazier to subset the NGen Hydrofabric\n",
    "\n",
    "<div class=\"alert alert-block alert-info\">\n",
    "<b>Acknowledgement:</b> This notebook is adapted from the code developed by CAUHSI team Tony Castronova and Irene Garousi-Nejad.\n",
    "</div>\n",
    "\n",
    "---"
   ]
  },
  {
   "cell_type": "code",
   "execution_count": 1,
   "id": "36689204-3953-4c5a-8338-81167df08186",
   "metadata": {
    "tags": []
   },
   "outputs": [],
   "source": [
    "!pip install watermark -q"
   ]
  },
  {
   "cell_type": "code",
   "execution_count": 2,
   "id": "c354f815-4e05-4a57-86d1-213a1536d801",
   "metadata": {
    "tags": []
   },
   "outputs": [],
   "source": [
    "# dealing with time and dates\n",
    "import time\n",
    "import datetime\n",
    "\n",
    "# data manipulation\n",
    "import pandas\n",
    "import subset\n",
    "\n",
    "# geospatial analysis\n",
    "import pyproj\n",
    "import geopandas\n",
    "import ipyleaflet\n",
    "import geopandas as gpd\n",
    "from pathlib import Path\n",
    "from sidecar import Sidecar\n",
    "from requests import Request\n",
    "from ipywidgets import Layout\n",
    "\n",
    "# progress bar\n",
    "from tqdm.notebook import tqdm\n",
    "\n",
    "# system\n",
    "import os\n",
    "\n",
    "# building realization\n",
    "import cfe_realization as r\n",
    "from pathlib import Path\n",
    "\n",
    "# ignore warnings\n",
    "import warnings\n",
    "warnings.filterwarnings(\"ignore\")\n",
    "\n",
    "%reload_ext watermark"
   ]
  },
  {
   "cell_type": "code",
   "execution_count": 3,
   "id": "a3e763b8-d361-4b4f-8005-04a2423d4f73",
   "metadata": {
    "tags": []
   },
   "outputs": [
    {
     "name": "stdout",
     "output_type": "stream",
     "text": [
      "Last updated: 2023-07-16T22:32:01.875158+00:00\n",
      "\n",
      "Python implementation: CPython\n",
      "Python version       : 3.9.16\n",
      "IPython version      : 8.14.0\n",
      "\n",
      "Compiler    : GCC 11.3.0\n",
      "OS          : Linux\n",
      "Release     : 5.15.107+\n",
      "Machine     : x86_64\n",
      "Processor   : x86_64\n",
      "CPU cores   : 14\n",
      "Architecture: 64bit\n",
      "\n"
     ]
    }
   ],
   "source": [
    "%watermark"
   ]
  },
  {
   "cell_type": "markdown",
   "id": "32efd6e0-a664-4f98-98ec-c96bf55e2944",
   "metadata": {},
   "source": [
    "## 1. Create a map and load the Hydrofabric VPU geometries"
   ]
  },
  {
   "cell_type": "markdown",
   "id": "c9c672fc-9635-460b-bef0-64338759f036",
   "metadata": {},
   "source": [
    "The following cell creates an interactive map that encompasses the Hydrofabric VPU (Vector Processing Units) geometries. These geometries are stored in a HydroShare [resource](https://www.hydroshare.org/resource/35e8c6023c154b6298fcda280beda849/). HydroShare offers convinient access to [WMS (Web Map Service)](https://docs.geoserver.org/latest/en/user/services/wms/index.html) and [WFS (Web Feature Service)](https://docs.geoserver.org/latest/en/user/services/wfs/index.html) capabilities, allowing us to easily display these geometries on an interactive map. These services facilitate the visualization and exploration of the data in a user-friendly manner."
   ]
  },
  {
   "cell_type": "markdown",
   "id": "0c71b423-e70b-4132-a0ac-0dfe88a4a069",
   "metadata": {},
   "source": [
    "Create a dictionary containing the HydroShare resource ID's of the NextGen hydrofabric boundaries. The vector data for these geometries can be obtained from the following HydroShare resource:\n",
    "\n",
    "https://www.hydroshare.org/resource/3fbeb99e896b4d5f814aa512e8b87af5/"
   ]
  },
  {
   "cell_type": "code",
   "execution_count": 4,
   "id": "430e0708-73fa-4adb-a76e-cef0fdf13553",
   "metadata": {
    "tags": []
   },
   "outputs": [],
   "source": [
    "geometry_urls = {\n",
    "'all_regions':'35e8c6023c154b6298fcda280beda849',\n",
    "'16':  'e8ddee6a8a90484fa7a976458e79c0c3',\n",
    "'01':  '5f0e81c665314967a1e15e4ae672aaae',\n",
    "'02':  '131a6d6cc6514b558f968716783d7d47',\n",
    "'03N': '38c84132987243c2a49ffb9d178f3162',\n",
    "'03S': '5d9cdd0b6851460aaccd0c83557e4a6c',\n",
    "'03W': '5674050a194c41b8a61f000c94c27983',\n",
    "'04':  'd161033e07634d6199ae136a24807f22',\n",
    "'05':  '47113551c63b41daa53465aee6cb69e9',\n",
    "'06':  '1302f07176cd46e2ab70db730e601682',\n",
    "'07':  'b380393bebaf47e68afd98fb15f4ff10',\n",
    "'08':  '2391aadf1f4440499e7b61b4dcc41d94',\n",
    "'09':  '27670ef43fbf42be914e1fca7d41ce0b',\n",
    "'10L': 'b5028b1c8b5240f8b7deb3bcebc2f005',\n",
    "'10U': 'b6dca803df5a4a8c8120512ccdfe8ba9',\n",
    "'11':  '8e7a4c951c8241269e47ee461c1d9ef3',\n",
    "'12':  '8ea1c9e098f044318777bf283c1fc0ad',\n",
    "'13':  'b166308dffed4db39083393a894c3694',\n",
    "'15':  '68501dc3b6214aca8d92aaae75aee941',\n",
    "'16':  '1244ac2f25b0442cacece320424c6756',\n",
    "'17':  'da20b06af50d4adab080597ae4ae8c46',\n",
    "'18':  'ca2e56965245476fbcb258b7d2aec7ab',\n",
    "'14':  '2d78b60ad0cf469daced4c4aa37764ad',\n",
    "}"
   ]
  },
  {
   "cell_type": "code",
   "execution_count": 5,
   "id": "a8c882f2-484a-4d14-9bdc-f0c1f2a3152f",
   "metadata": {
    "tags": []
   },
   "outputs": [],
   "source": [
    "defaultLayout=Layout(width='960px', height='940px')\n",
    "\n",
    "map_center = (40.730610, -73.935242) # NYC, NY\n",
    "m = ipyleaflet.Map(\n",
    "    basemap=ipyleaflet.basemap_to_tiles(ipyleaflet.basemaps.OpenStreetMap.Mapnik, layout=defaultLayout),\n",
    "    center=map_center,\n",
    "    zoom=9,\n",
    "    scroll_wheel_zoom=True,\n",
    "    tap=False\n",
    "    )\n",
    "\n",
    "# add USGS Gages\n",
    "m.add_layer(\n",
    "    ipyleaflet.WMSLayer(\n",
    "        url='http://arcgis.cuahsi.org/arcgis/services/NHD/usgs_gages/MapServer/WmsServer',\n",
    "        layers='0',\n",
    "        transparent=True,\n",
    "        format='image/png',\n",
    "        min_zoom=8,\n",
    "        max_zoom=18,\n",
    "        )\n",
    ")\n",
    "\n",
    "# add the CONUS VPU boundaries\n",
    "hs_wms_res_all = f'HS-{geometry_urls[\"all_regions\"]}'\n",
    "m.add_layer(\n",
    "    ipyleaflet.WMSLayer(\n",
    "        url=f'https://geoserver.hydroshare.org/geoserver/{hs_wms_res_all}/wms?',\n",
    "        layers='vpu_boundaries',\n",
    "        format='image/png',\n",
    "        transparent=True,\n",
    "        opacity=0.5,\n",
    "        min_zoom=4,\n",
    "        max_zoom=8\n",
    "    )\n",
    ")\n",
    "\n",
    "# add the watershed VPU boundaries for each region.\n",
    "#for vpu in ['01', '02','03N','03S','03W', '04','05','06','07','08','09','10L','10U','11','12','13','14','15','16','17','18']:\n",
    "for vpu in ['02']:\n",
    "    hs_wms_res = f'HS-{geometry_urls[vpu]}'\n",
    "    m.add_layer(\n",
    "        ipyleaflet.WMSLayer(\n",
    "            url=f'https://geoserver.hydroshare.org/geoserver/{hs_wms_res}/wms?',\n",
    "            layers=f'{vpu}_boundaries',\n",
    "            format='image/png',\n",
    "            transparent=True,\n",
    "            opacity=0.5,\n",
    "            min_zoom=8,\n",
    "            max_zoom=18\n",
    "        )\n",
    "    )\n"
   ]
  },
  {
   "cell_type": "markdown",
   "id": "8731a993-6478-4887-899c-7f8009702c2b",
   "metadata": {},
   "source": [
    "## 2. Enable interactive geometry selection "
   ]
  },
  {
   "cell_type": "markdown",
   "id": "70d69c43-6c97-4e2d-8a9e-c24f1ee74174",
   "metadata": {},
   "source": [
    "Now, let's introduce an event handler that empowers us to highlight and store geometries that are clicked on the map. The following function utilizes the `WFS` endpoint to fetch the shape's boundary when a geometry is clicked on the map. This boundary will be drawn on the map, enabling us to visually identify the selected area.Additionally, we will store the information about the selected area for later use, particularly when we need to collect the upstream catchments associated with the selected area. "
   ]
  },
  {
   "cell_type": "code",
   "execution_count": 5,
   "id": "e9063177-175c-4608-b639-09fe1ef9d623",
   "metadata": {
    "tags": []
   },
   "outputs": [],
   "source": [
    "# # select multiple geometry \n",
    "# selected_dfs = [] # Initialize an empty list\n",
    "# colors = ['red', 'green', 'blue', 'yellow', 'purple', 'orange', 'cyan', 'magenta'] # 8 colors \n",
    "\n",
    "# def handle_map_interaction(**kwargs):\n",
    "#     global selected_dfs # Use the list instead of a single DataFrame\n",
    "    \n",
    "#     # ... (same as before)\n",
    "    \n",
    "#     if kwargs.get('type') == 'click':\n",
    "#         hs_wms_vpu_all = f'HS-{geometry_urls[\"all_regions\"]}'\n",
    "#         coords = kwargs['coordinates'] \n",
    "#         url = f'https://geoserver.hydroshare.org/geoserver/{hs_wms_vpu_all}/wfs?' \\\n",
    "#                'service=wfs&version=2.0.0&' \\\n",
    "#               f'request=getFeature&' \\\n",
    "#                'srsName=EPSG:4269&' \\\n",
    "#               f'bbox={coords[1]},{coords[0]},{coords[1]},{coords[0]},EPSG:4269&' \\\n",
    "#               f'typeName=vpu_boundaries&' \\\n",
    "#                'outputFormat=json&' \\\n",
    "#                'PropertyName=VPU'\n",
    "#         print(url)\n",
    "\n",
    "#         q = Request('GET', url).prepare().url\n",
    "#         df = gpd.read_file(q, format='json')\n",
    "        \n",
    "#         # exit if a VPU is not found, i.e. a user doesn't click on the layer\n",
    "#         if len(df) == 0: return\n",
    "        \n",
    "#         VPU = df.VPU.values[0]\n",
    "#         hs_wms_res = f'HS-{geometry_urls[VPU]}'\n",
    "#         print(f'You selected VPU {VPU}')\n",
    "#         url = f'https://geoserver.hydroshare.org/geoserver/{hs_wms_res}/wfs?' \\\n",
    "#                'service=wfs&version=2.0.0&' \\\n",
    "#               f'request=getFeature&' \\\n",
    "#                'srsName=EPSG:4269&' \\\n",
    "#               f'bbox={coords[1]},{coords[0]},{coords[1]},{coords[0]},EPSG:4269&' \\\n",
    "#               f'typeName={VPU}_boundaries&' \\\n",
    "#                'outputFormat=json&'\n",
    "\n",
    "#         q = Request('GET', url).prepare().url\n",
    "#         df = gpd.read_file(q, format='json')\n",
    "\n",
    "#         # exit if a VPU is not found, i.e. a user doesn't click on the layer\n",
    "#         if len(df) == 0: return\n",
    "    \n",
    "#     # save vpu region, convert crs, and append selection to the list\n",
    "#     df['VPU'] = VPU \n",
    "#     df = df.to_crs('EPSG:4269')\n",
    "#     selected_dfs.append(df) # Append instead of replacing\n",
    "    \n",
    "#     # ... (same as before)\n",
    "#     if type(m.layers[-1]) == ipyleaflet.WKTLayer:\n",
    "#             m.remove_layer(m.layers[-1])\n",
    "    \n",
    "#     # display the watershed boundary on the map\n",
    "#     # iterate over all selected watersheds\n",
    "#     for i, selected_df in enumerate(selected_dfs):\n",
    "#         color = colors[i % len(colors)] # Cycle through the colors\n",
    "#         m.add_layer(ipyleaflet.WKTLayer(wkt_string=selected_df.iloc[0].geometry.wkt, color=color, fill=True))\n",
    "\n",
    "# m.on_interaction(handle_map_interaction)\n"
   ]
  },
  {
   "cell_type": "code",
   "execution_count": null,
   "id": "138fa840-f991-4a11-82e3-43a2b3663c59",
   "metadata": {},
   "outputs": [],
   "source": []
  },
  {
   "cell_type": "code",
   "execution_count": null,
   "id": "06cb3eeb-0f8e-456e-ad0b-d8530e4454d6",
   "metadata": {},
   "outputs": [],
   "source": []
  },
  {
   "cell_type": "code",
   "execution_count": 6,
   "id": "807970de-8af1-43d0-8511-c616e2b7eab5",
   "metadata": {
    "tags": []
   },
   "outputs": [],
   "source": [
    "# select one watershed at a time\n",
    "selected_df = None\n",
    "\n",
    "def handle_map_interaction(**kwargs):\n",
    "    global selected_df\n",
    "    \n",
    "    if kwargs.get('type') == 'click':\n",
    "        hs_wms_vpu_all = f'HS-{geometry_urls[\"all_regions\"]}'\n",
    "        coords = kwargs['coordinates'] \n",
    "        url = f'https://geoserver.hydroshare.org/geoserver/{hs_wms_vpu_all}/wfs?' \\\n",
    "               'service=wfs&version=2.0.0&' \\\n",
    "              f'request=getFeature&' \\\n",
    "               'srsName=EPSG:4269&' \\\n",
    "              f'bbox={coords[1]},{coords[0]},{coords[1]},{coords[0]},EPSG:4269&' \\\n",
    "              f'typeName=vpu_boundaries&' \\\n",
    "               'outputFormat=json&' \\\n",
    "               'PropertyName=VPU'\n",
    "        print(url)\n",
    "\n",
    "        q = Request('GET', url).prepare().url\n",
    "        df = gpd.read_file(q, format='json')\n",
    "        \n",
    "        # exit if a VPU is not found, i.e. a user doesn't click on the layer\n",
    "        if len(df) == 0: return\n",
    "        \n",
    "        VPU = df.VPU.values[0]\n",
    "        hs_wms_res = f'HS-{geometry_urls[VPU]}'\n",
    "        print(f'You selected VPU {VPU}')\n",
    "        url = f'https://geoserver.hydroshare.org/geoserver/{hs_wms_res}/wfs?' \\\n",
    "               'service=wfs&version=2.0.0&' \\\n",
    "              f'request=getFeature&' \\\n",
    "               'srsName=EPSG:4269&' \\\n",
    "              f'bbox={coords[1]},{coords[0]},{coords[1]},{coords[0]},EPSG:4269&' \\\n",
    "              f'typeName={VPU}_boundaries&' \\\n",
    "               'outputFormat=json&'\n",
    "\n",
    "        q = Request('GET', url).prepare().url\n",
    "        df = gpd.read_file(q, format='json')\n",
    "\n",
    "        # exit if a VPU is not found, i.e. a user doesn't click on the layer\n",
    "        if len(df) == 0: return\n",
    "    \n",
    "        # save vpu region, convert crs, and save selection for later\n",
    "        df['VPU'] = VPU \n",
    "        df = df.to_crs('EPSG:4269')\n",
    "        selected_df = df\n",
    "        \n",
    "        if type(m.layers[-1]) == ipyleaflet.WKTLayer:\n",
    "            m.remove_layer(m.layers[-1])\n",
    "            \n",
    "        # display the watershed boundary on the map\n",
    "        m.add_layer(ipyleaflet.WKTLayer(wkt_string=df.iloc[0].geometry.wkt))\n",
    "        \n",
    "m.on_interaction(handle_map_interaction)"
   ]
  },
  {
   "cell_type": "markdown",
   "id": "091faa22-689e-4e2f-8e3c-02244e530d2e",
   "metadata": {},
   "source": [
    "Display the map"
   ]
  },
  {
   "cell_type": "code",
   "execution_count": 7,
   "id": "c1b6fa44-1657-42c5-9fa4-b550eede388f",
   "metadata": {
    "tags": []
   },
   "outputs": [],
   "source": [
    "sc = Sidecar(title='NGEN HydroFabric Map')\n",
    "with sc:\n",
    "    display(m)"
   ]
  },
  {
   "cell_type": "markdown",
   "id": "d1b8729c-fd1e-4206-83b0-1fc0d1fbe0c8",
   "metadata": {},
   "source": [
    "Select the VPU of interest. Run the following code cell to print the `id` of the selected area. "
   ]
  },
  {
   "cell_type": "code",
   "execution_count": 8,
   "id": "11b352a5-0627-4094-a6d2-e99f498e84c1",
   "metadata": {
    "tags": []
   },
   "outputs": [
    {
     "name": "stdout",
     "output_type": "stream",
     "text": [
      "Watershed 1 id: wb-694725\n",
      "Watershed 2 id: wb-694856\n",
      "Watershed 3 id: wb-694855\n",
      "Watershed 4 id: wb-694854\n",
      "Watershed 5 id: wb-694724\n",
      "Watershed 6 id: wb-694723\n",
      "Watershed 7 id: wb-694722\n",
      "Watershed 8 id: wb-694853\n"
     ]
    }
   ],
   "source": [
    "# Print the id of each selected watershed \n",
    "for i, df in enumerate(selected_dfs):\n",
    "    print(f\"Watershed {i+1} id: {df['id'].values[0]}\")"
   ]
  },
  {
   "cell_type": "code",
   "execution_count": 9,
   "id": "2ac5a477-93df-48d3-b3a6-f9b09d606665",
   "metadata": {
    "tags": []
   },
   "outputs": [],
   "source": [
    "# selected_df.id"
   ]
  },
  {
   "cell_type": "markdown",
   "id": "b5d3093d-7d14-41a5-87d8-2d345ef6c963",
   "metadata": {},
   "source": [
    "## 3. Subset hydrofabric data for the selected area"
   ]
  },
  {
   "cell_type": "markdown",
   "id": "0e63fd4e-b755-4648-89db-12bf5f063614",
   "metadata": {},
   "source": [
    "The following code passes the `id` and `VPU` values of the geometries selected on the map (`selected_df`) to the hydrofabric subsetting script (`subset.py`). The subsetting algorithm implemented in the code adopts a reverse tracing technique called `subset_upstream`. It systematically identifies and selects all the upstream divides, catchments, nexuses, and flowlines starting from the most downstream nexus linked to the chosen geometries."
   ]
  },
  {
   "cell_type": "code",
   "execution_count": 8,
   "id": "d5e766e3-d72d-4a4e-a34d-4738737ea170",
   "metadata": {
    "tags": []
   },
   "outputs": [
    {
     "data": {
      "application/vnd.jupyter.widget-view+json": {
       "model_id": "c3deac82b3f54119a7ce8b701a06f104",
       "version_major": 2,
       "version_minor": 0
      },
      "text/plain": [
       "  0%|          | 0/8 [00:00<?, ?it/s]"
      ]
     },
     "metadata": {},
     "output_type": "display_data"
    },
    {
     "name": "stdout",
     "output_type": "stream",
     "text": [
      "--------------------------------------------------\n",
      "Processing VPU ['02'], wb-694856 \n",
      "s3://nextgen-hydrofabric/pre-release/nextgen_02.gpkg\n",
      "Building Graph Network\n"
     ]
    },
    {
     "name": "stderr",
     "output_type": "stream",
     "text": [
      "WARNING:fiona._env:File /vsimem/70f3d0f7ee1d4115b1de2fafbab2b278 has GPKG application_id, but non conformant file extension\n",
      "WARNING:fiona._env:File /vsimem/14f74d0d1da24cdb949b54d3b80d7998 has GPKG application_id, but non conformant file extension\n",
      "WARNING:fiona._env:File /vsimem/58760ccc9d184866b3841d8083f4ef4e has GPKG application_id, but non conformant file extension\n",
      "WARNING:fiona._env:File /vsimem/630c8e2fa90d457aaf90c01cad77e300 has GPKG application_id, but non conformant file extension\n",
      "WARNING:fiona._env:File /vsimem/7e23bd12291c4f248bb3309b2902d0e6 has GPKG application_id, but non conformant file extension\n"
     ]
    },
    {
     "name": "stdout",
     "output_type": "stream",
     "text": [
      "Output files located at: wb-694856\n",
      "Completed in 123.35059857368469 seconds\n",
      "--------------------------------------------------\n",
      "--------------------------------------------------\n",
      "Processing VPU ['02'], wb-694725 \n",
      "s3://nextgen-hydrofabric/pre-release/nextgen_02.gpkg\n"
     ]
    },
    {
     "name": "stderr",
     "output_type": "stream",
     "text": [
      "WARNING:fiona._env:File /vsimem/39f1ffa05cf94aa4bf2e3900ca6121e0/39f1ffa05cf94aa4bf2e3900ca6121e0 has GPKG application_id, but non conformant file extension\n",
      "WARNING:fiona._env:File /vsimem/15b60397c9c2458385782d1a39b24ff3 has GPKG application_id, but non conformant file extension\n",
      "WARNING:fiona._env:File /vsimem/8fe6540b09804e9b95dc87d838738315 has GPKG application_id, but non conformant file extension\n",
      "WARNING:fiona._env:File /vsimem/4e7572fd94f54e819f32315ce7da334c has GPKG application_id, but non conformant file extension\n"
     ]
    },
    {
     "name": "stdout",
     "output_type": "stream",
     "text": [
      "Building Graph Network\n"
     ]
    },
    {
     "name": "stderr",
     "output_type": "stream",
     "text": [
      "WARNING:fiona._env:File /vsimem/bac42a96435041ccbeb05dbd3f7edc65 has GPKG application_id, but non conformant file extension\n",
      "WARNING:fiona._env:File /vsimem/32bb35084eaa4c97b5f66c120e85011b has GPKG application_id, but non conformant file extension\n",
      "WARNING:fiona._env:File /vsimem/54f1b8db9eac43bc9ca02194e6ccfda9 has GPKG application_id, but non conformant file extension\n",
      "WARNING:fiona._env:File /vsimem/4afa03d05cc44f10a7252725fa3aeea9 has GPKG application_id, but non conformant file extension\n",
      "WARNING:fiona._env:File /vsimem/e24e3509437d48b3b838f7b07033a0e4 has GPKG application_id, but non conformant file extension\n"
     ]
    },
    {
     "name": "stdout",
     "output_type": "stream",
     "text": [
      "Output files located at: wb-694725\n",
      "Completed in 96.62742733955383 seconds\n",
      "--------------------------------------------------\n",
      "--------------------------------------------------\n",
      "Processing VPU ['02'], wb-694855 \n",
      "s3://nextgen-hydrofabric/pre-release/nextgen_02.gpkg\n"
     ]
    },
    {
     "name": "stderr",
     "output_type": "stream",
     "text": [
      "WARNING:fiona._env:File /vsimem/c243f1b9e46c447eb6aae754e2980b70/c243f1b9e46c447eb6aae754e2980b70 has GPKG application_id, but non conformant file extension\n",
      "WARNING:fiona._env:File /vsimem/a0ff54407dfa4df08702e706d73f658a has GPKG application_id, but non conformant file extension\n",
      "WARNING:fiona._env:File /vsimem/8fa6b970dca441a5bbfe4c805609a26d has GPKG application_id, but non conformant file extension\n",
      "WARNING:fiona._env:File /vsimem/68f1049ee2ca45a9ac642b9206265c86 has GPKG application_id, but non conformant file extension\n"
     ]
    },
    {
     "name": "stdout",
     "output_type": "stream",
     "text": [
      "Building Graph Network\n"
     ]
    },
    {
     "name": "stderr",
     "output_type": "stream",
     "text": [
      "WARNING:fiona._env:File /vsimem/bcc311f8cdf245a091c9153013155832 has GPKG application_id, but non conformant file extension\n",
      "WARNING:fiona._env:File /vsimem/5edd1777d4214467ab7aca24f8f8a837 has GPKG application_id, but non conformant file extension\n",
      "WARNING:fiona._env:File /vsimem/a1942ed07afe41868b7b029f72d1a27d has GPKG application_id, but non conformant file extension\n",
      "WARNING:fiona._env:File /vsimem/827f78407a4b48fba99dd98cd15310fc has GPKG application_id, but non conformant file extension\n",
      "WARNING:fiona._env:File /vsimem/7442944339b64bd596149ce49471d755 has GPKG application_id, but non conformant file extension\n"
     ]
    },
    {
     "name": "stdout",
     "output_type": "stream",
     "text": [
      "Output files located at: wb-694855\n",
      "Completed in 115.95545053482056 seconds\n",
      "--------------------------------------------------\n",
      "--------------------------------------------------\n",
      "Processing VPU ['02'], wb-694724 \n",
      "s3://nextgen-hydrofabric/pre-release/nextgen_02.gpkg\n"
     ]
    },
    {
     "name": "stderr",
     "output_type": "stream",
     "text": [
      "WARNING:fiona._env:File /vsimem/774682fe2eda42e49b2267cf9503632e/774682fe2eda42e49b2267cf9503632e has GPKG application_id, but non conformant file extension\n",
      "WARNING:fiona._env:File /vsimem/4bed3c4eec114e3a96dbc7921d5d8076 has GPKG application_id, but non conformant file extension\n",
      "WARNING:fiona._env:File /vsimem/849cccfdfae04059a097f907dc44965f has GPKG application_id, but non conformant file extension\n",
      "WARNING:fiona._env:File /vsimem/ffe80d26067f48e49eac7b7dfefe24b5 has GPKG application_id, but non conformant file extension\n"
     ]
    },
    {
     "name": "stdout",
     "output_type": "stream",
     "text": [
      "Building Graph Network\n"
     ]
    },
    {
     "name": "stderr",
     "output_type": "stream",
     "text": [
      "WARNING:fiona._env:File /vsimem/fda88c5b01674e5495e5529db2339d3e has GPKG application_id, but non conformant file extension\n",
      "WARNING:fiona._env:File /vsimem/9b454ab171e24db898e838d7ffc24b33 has GPKG application_id, but non conformant file extension\n",
      "WARNING:fiona._env:File /vsimem/5222c77b40634a4096299642f7ac303d has GPKG application_id, but non conformant file extension\n",
      "WARNING:fiona._env:File /vsimem/17e6736d215d4e0b850017418b871cd6 has GPKG application_id, but non conformant file extension\n",
      "WARNING:fiona._env:File /vsimem/015373eeb2244a5a8072e576fb84ca67 has GPKG application_id, but non conformant file extension\n"
     ]
    },
    {
     "name": "stdout",
     "output_type": "stream",
     "text": [
      "Output files located at: wb-694724\n",
      "Completed in 96.93956875801086 seconds\n",
      "--------------------------------------------------\n",
      "--------------------------------------------------\n",
      "Processing VPU ['02'], wb-694854 \n",
      "s3://nextgen-hydrofabric/pre-release/nextgen_02.gpkg\n"
     ]
    },
    {
     "name": "stderr",
     "output_type": "stream",
     "text": [
      "WARNING:fiona._env:File /vsimem/771bd760db07493dba2f138a85c7a40b/771bd760db07493dba2f138a85c7a40b has GPKG application_id, but non conformant file extension\n",
      "WARNING:fiona._env:File /vsimem/13c4017fa0d44950b51ef5f06526895f has GPKG application_id, but non conformant file extension\n",
      "WARNING:fiona._env:File /vsimem/03a067f0c27f40fab8df705c32a63e2e has GPKG application_id, but non conformant file extension\n",
      "WARNING:fiona._env:File /vsimem/9063110bd4c545cd879cb52a709a3ceb has GPKG application_id, but non conformant file extension\n"
     ]
    },
    {
     "name": "stdout",
     "output_type": "stream",
     "text": [
      "Building Graph Network\n"
     ]
    },
    {
     "name": "stderr",
     "output_type": "stream",
     "text": [
      "WARNING:fiona._env:File /vsimem/4d690984c54b4c43aece568fd0d2f6a9 has GPKG application_id, but non conformant file extension\n",
      "WARNING:fiona._env:File /vsimem/dd5daf3068be4961bc2491bb9346c3a8 has GPKG application_id, but non conformant file extension\n",
      "WARNING:fiona._env:File /vsimem/a1e8e01580e649e6aa860ad216c08755 has GPKG application_id, but non conformant file extension\n",
      "WARNING:fiona._env:File /vsimem/db940ed7b55d4656a89b591fa5931526 has GPKG application_id, but non conformant file extension\n",
      "WARNING:fiona._env:File /vsimem/e13db3cecbe4417ab95da3179e7b8082 has GPKG application_id, but non conformant file extension\n"
     ]
    },
    {
     "name": "stdout",
     "output_type": "stream",
     "text": [
      "Output files located at: wb-694854\n",
      "Completed in 116.12964677810669 seconds\n",
      "--------------------------------------------------\n",
      "--------------------------------------------------\n",
      "Processing VPU ['02'], wb-694723 \n",
      "s3://nextgen-hydrofabric/pre-release/nextgen_02.gpkg\n"
     ]
    },
    {
     "name": "stderr",
     "output_type": "stream",
     "text": [
      "WARNING:fiona._env:File /vsimem/589d80c0f3f645b8af75d83721c582f8/589d80c0f3f645b8af75d83721c582f8 has GPKG application_id, but non conformant file extension\n",
      "WARNING:fiona._env:File /vsimem/89b269bcfa6e4eb0a31f96c8dbe737c5 has GPKG application_id, but non conformant file extension\n",
      "WARNING:fiona._env:File /vsimem/7491317908a141609da850dc5a275359 has GPKG application_id, but non conformant file extension\n",
      "WARNING:fiona._env:File /vsimem/f4556578f39b403685c2aed3af61848a has GPKG application_id, but non conformant file extension\n"
     ]
    },
    {
     "name": "stdout",
     "output_type": "stream",
     "text": [
      "Building Graph Network\n"
     ]
    },
    {
     "name": "stderr",
     "output_type": "stream",
     "text": [
      "WARNING:fiona._env:File /vsimem/2f574a43037b4f6582adeb1a9b161fc3 has GPKG application_id, but non conformant file extension\n",
      "WARNING:fiona._env:File /vsimem/e369aa39b3204180916b306e6f35c0a7 has GPKG application_id, but non conformant file extension\n",
      "WARNING:fiona._env:File /vsimem/2bc06c80d52f4263a38c001ce66aa8da has GPKG application_id, but non conformant file extension\n",
      "WARNING:fiona._env:File /vsimem/71af0c520bd74dd0aed7fdd637d33bb1 has GPKG application_id, but non conformant file extension\n",
      "WARNING:fiona._env:File /vsimem/aca447db95824edc91047a4c07dab441 has GPKG application_id, but non conformant file extension\n"
     ]
    },
    {
     "name": "stdout",
     "output_type": "stream",
     "text": [
      "Output files located at: wb-694723\n",
      "Completed in 96.02894282341003 seconds\n",
      "--------------------------------------------------\n",
      "--------------------------------------------------\n",
      "Processing VPU ['02'], wb-698891 \n",
      "s3://nextgen-hydrofabric/pre-release/nextgen_02.gpkg\n"
     ]
    },
    {
     "name": "stderr",
     "output_type": "stream",
     "text": [
      "WARNING:fiona._env:File /vsimem/e6a88f49c6ce4f9da6ec53b654f8c819/e6a88f49c6ce4f9da6ec53b654f8c819 has GPKG application_id, but non conformant file extension\n",
      "WARNING:fiona._env:File /vsimem/de2f8a312e2245fea038f6b1717360e9 has GPKG application_id, but non conformant file extension\n",
      "WARNING:fiona._env:File /vsimem/8e4d9d7ad0a54a0b99fe187b722b7965 has GPKG application_id, but non conformant file extension\n",
      "WARNING:fiona._env:File /vsimem/ee35294d9507425ca4e7eeebb2f16bbc has GPKG application_id, but non conformant file extension\n"
     ]
    },
    {
     "name": "stdout",
     "output_type": "stream",
     "text": [
      "Building Graph Network\n"
     ]
    },
    {
     "name": "stderr",
     "output_type": "stream",
     "text": [
      "WARNING:fiona._env:File /vsimem/4db633e414b145a0933a528436ee02fe has GPKG application_id, but non conformant file extension\n",
      "WARNING:fiona._env:File /vsimem/bed13ab6aea0432ca9d8d3c5f9c6dc50 has GPKG application_id, but non conformant file extension\n",
      "WARNING:fiona._env:File /vsimem/734b468125ce4e8abae4db7b9ba3617d has GPKG application_id, but non conformant file extension\n",
      "WARNING:fiona._env:File /vsimem/fadb1ba4bdc746fe963a30115e43481a has GPKG application_id, but non conformant file extension\n",
      "WARNING:fiona._env:File /vsimem/a6f4df6c63d84cf0a0ee547e73094dbe has GPKG application_id, but non conformant file extension\n"
     ]
    },
    {
     "name": "stdout",
     "output_type": "stream",
     "text": [
      "Output files located at: wb-698891\n",
      "Completed in 96.48746252059937 seconds\n",
      "--------------------------------------------------\n",
      "--------------------------------------------------\n",
      "Processing VPU ['02'], wb-694722 \n",
      "s3://nextgen-hydrofabric/pre-release/nextgen_02.gpkg\n"
     ]
    },
    {
     "name": "stderr",
     "output_type": "stream",
     "text": [
      "WARNING:fiona._env:File /vsimem/b0d231f6eb1041519568793313079a15/b0d231f6eb1041519568793313079a15 has GPKG application_id, but non conformant file extension\n",
      "WARNING:fiona._env:File /vsimem/d7aea469d54341658c2b8a05504911a5 has GPKG application_id, but non conformant file extension\n",
      "WARNING:fiona._env:File /vsimem/460e117005304f4d888fce6e530cfc90 has GPKG application_id, but non conformant file extension\n",
      "WARNING:fiona._env:File /vsimem/ae0107c2163e41e3bef3c3c1a5b16216 has GPKG application_id, but non conformant file extension\n"
     ]
    },
    {
     "name": "stdout",
     "output_type": "stream",
     "text": [
      "Building Graph Network\n"
     ]
    },
    {
     "name": "stderr",
     "output_type": "stream",
     "text": [
      "WARNING:fiona._env:File /vsimem/8c9484dfad5444fc8ac0e5e4ff03e287 has GPKG application_id, but non conformant file extension\n",
      "WARNING:fiona._env:File /vsimem/f0fac7c04982427e8d66a397d31cfde9 has GPKG application_id, but non conformant file extension\n",
      "WARNING:fiona._env:File /vsimem/ba7acccb788e49bc8339aad4b08ba7b1 has GPKG application_id, but non conformant file extension\n",
      "WARNING:fiona._env:File /vsimem/ecf91430739a4acb9cae33a02d4924b5 has GPKG application_id, but non conformant file extension\n",
      "WARNING:fiona._env:File /vsimem/c9817cfe3ba94696842302c51ddacb26 has GPKG application_id, but non conformant file extension\n"
     ]
    },
    {
     "name": "stdout",
     "output_type": "stream",
     "text": [
      "Output files located at: wb-694722\n",
      "Completed in 96.37918829917908 seconds\n",
      "--------------------------------------------------\n"
     ]
    }
   ],
   "source": [
    "ids_list = ['wb-694856', 'wb-694725', 'wb-694855', 'wb-694724', 'wb-694854', 'wb-694723', 'wb-698891', 'wb-694722']\n",
    "\n",
    "vpus = ['02'] # list(selected_df.VPU.values) #['16'] \n",
    "\n",
    "output_files = []\n",
    "for i in tqdm(range(0, len(ids_list))):    \n",
    "    print(50*'-'+f'\\nProcessing VPU {vpus}, {ids_list[i]} ')\n",
    "    st = time.time()\n",
    "    # build the hydrofabric_url\n",
    "    # the complete dataset can be found at: https://nextgen-hydrofabric.s3.amazonaws.com/index.html#pre-release/\n",
    "    hydrofabric_url = f's3://nextgen-hydrofabric/pre-release/nextgen_02.gpkg' #{vpus[i]} in place of 02\n",
    "    subset.subset_upstream(hydrofabric_url, ids_list[i])\n",
    "    \n",
    "    # move these files into a subdir to keep things orderly\n",
    "    counter = 1\n",
    "    outpath = ids_list[i]\n",
    "    while os.path.exists(outpath):\n",
    "        outpath = ids_list[i] + \"_\" + str(counter)\n",
    "        counter += 1\n",
    "    os.mkdir(outpath)\n",
    "    for subdir in ['config', 'forcings', 'outputs']:\n",
    "        os.mkdir(os.path.join(outpath, subdir))\n",
    "\n",
    "    for f in [f'{ids_list[i]}_upstream_subset.gpkg',\n",
    "              'catchments.geojson',\n",
    "              'crosswalk.json',\n",
    "              'flowpath_edge_list.json',\n",
    "              'flowpaths.geojson',\n",
    "              'nexus.geojson',\n",
    "              'cfe_noahowp_attributes.csv']:\n",
    "        os.rename(f, os.path.join(outpath, 'config', f))\n",
    "        \n",
    "    # output_files.append(f'{ids[i]}_upstream_subset.gpkg')\n",
    "    print(f'Output files located at: {outpath}')\n",
    "    print(f'Completed in {time.time() - st} seconds\\n'+50*'-')    \n",
    "\n",
    "# outdir = Path(outpath)"
   ]
  },
  {
   "cell_type": "code",
   "execution_count": 12,
   "id": "28af8c32-011d-4981-a614-1d5f62de424c",
   "metadata": {
    "tags": []
   },
   "outputs": [],
   "source": [
    "# ids_list = 'wb-694856', 'wb-694725', 'wb-694855', 'wb-694724', 'wb-694854', 'wb-694723', 'wb-698891', 'wb-694722'\n",
    "\n",
    "# ids = list(ids_list) # selected_df.id.values, you can also put id manually ['wb-2917533'] \n",
    "# vpus = ['02'] # list(selected_df.VPU.values) #['16'] \n",
    "\n",
    "# output_files = []\n",
    "# for i in tqdm(range(0, len(ids))):    \n",
    "#     print(50*'-'+f'\\nProcessing VPU {vpus}, {ids[i]} ')\n",
    "#     st = time.time()\n",
    "#     # build the hydrofabric_url\n",
    "#     # the complete dataset can be found at: https://nextgen-hydrofabric.s3.amazonaws.com/index.html#pre-release/\n",
    "#     hydrofabric_url = f's3://nextgen-hydrofabric/pre-release/nextgen_02.gpkg' #{vpus[i]} in place of 02\n",
    "#     subset.subset_upstream(hydrofabric_url, ids[i])\n",
    "    \n",
    "#     # move these files into a subdir to keep things orderly\n",
    "#     counter = 1\n",
    "#     outpath = ids[i]\n",
    "#     while os.path.exists(outpath):\n",
    "#         outpath = ids[i] + \"_\" + str(counter)\n",
    "#         counter += 1\n",
    "#     os.mkdir(outpath)\n",
    "#     for subdir in ['config', 'forcings', 'outputs']:\n",
    "#         os.mkdir(os.path.join(outpath, subdir))\n",
    "\n",
    "#     for f in [f'{ids[i]}_upstream_subset.gpkg',\n",
    "#               'catchments.geojson',\n",
    "#               'crosswalk.json',\n",
    "#               'flowpath_edge_list.json',\n",
    "#               'flowpaths.geojson',\n",
    "#               'nexus.geojson',\n",
    "#               'cfe_noahowp_attributes.csv']:\n",
    "#         os.rename(f, os.path.join(outpath, 'config', f))\n",
    "        \n",
    "#     # output_files.append(f'{ids[i]}_upstream_subset.gpkg')\n",
    "#     print(f'Output files located at: {outpath}')\n",
    "#     print(f'Completed in {time.time() - st} seconds\\n'+50*'-')    \n",
    "\n",
    "# outdir = Path(outpath)"
   ]
  },
  {
   "cell_type": "markdown",
   "id": "e6410e7b-f225-406d-adb9-c7cefdc07171",
   "metadata": {},
   "source": [
    "## 4. Add the Subset Hydrofabric to the map\n"
   ]
  },
  {
   "cell_type": "markdown",
   "id": "3f7e1ec5-666f-4e65-ad69-8d470d918eaf",
   "metadata": {},
   "source": [
    "Execute the following code cell to add the subset catchments and rivers from the geopackage file  as visual overlays on the map. In this section, we begin by reading the shapefiles stored within the geopackage file. We then proceed to transform the projection system of these shapes into Web Mercator, the desired coordinate reference system for our map. Next, we create a WKTLayer for each catchment and river in the subset shapefiles. A WKTLayer enables us to represent the shape's geometry using a WKT string, which provides a concise description of its spatial properties."
   ]
  },
  {
   "cell_type": "code",
   "execution_count": 8,
   "id": "d2acb76f-0414-4293-a815-143a84c7cbd5",
   "metadata": {
    "tags": []
   },
   "outputs": [
    {
     "data": {
      "text/plain": [
       "'/home/jovyan/data/ngen-cfe-hydrological-model/notebooks/ngen'"
      ]
     },
     "execution_count": 8,
     "metadata": {},
     "output_type": "execute_result"
    }
   ],
   "source": [
    "os.getcwd()"
   ]
  },
  {
   "cell_type": "code",
   "execution_count": 9,
   "id": "f8c041a2-a5c2-4c45-b19a-9fbae82e9480",
   "metadata": {
    "tags": []
   },
   "outputs": [
    {
     "data": {
      "application/vnd.jupyter.widget-view+json": {
       "model_id": "70776c98fccb4d8eba7d79d04fa84599",
       "version_major": 2,
       "version_minor": 0
      },
      "text/plain": [
       "  0%|          | 0/8 [00:00<?, ?it/s]"
      ]
     },
     "metadata": {},
     "output_type": "display_data"
    },
    {
     "name": "stdout",
     "output_type": "stream",
     "text": [
      "wb-694856\n",
      "wb-694725\n",
      "wb-694855\n",
      "wb-694724\n",
      "wb-694854\n",
      "wb-694723\n",
      "wb-698891\n",
      "wb-694722\n"
     ]
    }
   ],
   "source": [
    "ids_list = ['wb-694856', 'wb-694725', 'wb-694855', 'wb-694724', 'wb-694854', 'wb-694723', 'wb-698891', 'wb-694722']\n",
    "\n",
    "# define the target projection as EPSG:4269 - Web Mercator\n",
    "# this is the default crs for leaflet\n",
    "target_crs = pyproj.Proj('4269')\n",
    "\n",
    "# Dictionaries to store catchments and rivers data for each id\n",
    "catchments_dict = {}\n",
    "rivers_dict = {}\n",
    "\n",
    "for i in tqdm(ids_list):\n",
    "    # outdir\n",
    "    out_dir = Path(i)\n",
    "    \n",
    "    print(out_dir)\n",
    "\n",
    "    # read the shapes\n",
    "    catchments = geopandas.read_file(f'{out_dir}/config/{i}_upstream_subset.gpkg',\n",
    "                              layer='divides')\n",
    "    rivers = geopandas.read_file(f'{out_dir}/config/{i}_upstream_subset.gpkg',\n",
    "                              layer='flowpaths')\n",
    "\n",
    "    # transform the shapefile into EPSG:4269\n",
    "    catchments = catchments.to_crs(target_crs.crs)\n",
    "    rivers = rivers.to_crs(target_crs.crs)\n",
    "\n",
    "    # Store the catchments and rivers data for this id in the dictionaries\n",
    "    catchments_dict[i] = catchments\n",
    "    rivers_dict[i] = rivers\n",
    "\n",
    "# Now iterate over the stored data and add to the map\n",
    "# for i in tqdm(ids_list):\n",
    "#     # add the catchments to the map\n",
    "#     for idx, shape in catchments_dict[i].iterrows():\n",
    "#         wkt = ipyleaflet.WKTLayer(wkt_string=shape.geometry.wkt)\n",
    "#         wkt.style = {'color': 'green'}\n",
    "#         m.add_layer(wkt)\n",
    "\n",
    "#     # add the rivers to the map\n",
    "#     for idx, shape in rivers_dict[i].iterrows():\n",
    "#         wkt = ipyleaflet.WKTLayer(wkt_string=shape.geometry.wkt)\n",
    "#         wkt.style = {'color': 'blue'}\n",
    "#         m.add_layer(wkt)\n"
   ]
  },
  {
   "cell_type": "markdown",
   "id": "7c3118b1-7328-4dcb-ac3d-921cd8a8fa81",
   "metadata": {},
   "source": [
    "## 5. Build Realization "
   ]
  },
  {
   "cell_type": "code",
   "execution_count": 10,
   "id": "275cadb8-3496-473c-b830-cef501bec099",
   "metadata": {},
   "outputs": [],
   "source": [
    "def create_cfe_realizations(ids_list, time, r):\n",
    "    \"\"\"\n",
    "    Function to Create CFE Realizations for Each Watershed in ids_list\n",
    "\n",
    "    This function iterates over each watershed specified in the ids_list, and for each one,\n",
    "    it creates a CFE realization by calling the 'create_cfe_realization' method on the 'r' object.\n",
    "    The time parameters for the realization are passed in via the 'time' dictionary. The function\n",
    "    assumes that the necessary files and directories are in the correct locations relative to each\n",
    "    specified directory.\n",
    "    \n",
    "    Parameters:\n",
    "    ids_list (list of str): List of watershed names.\n",
    "    time (dict): Dictionary with time parameters.\n",
    "    r (unknown type): Object with a method create_cfe_realization.\n",
    "    \"\"\"\n",
    "    # Loop over each watershed in the ids_list\n",
    "    for directory in tqdm(ids_list):\n",
    "        # Convert the watershed directory string to a Path object\n",
    "        out_dir = Path(directory)\n",
    "        \n",
    "        # Print the directory being processed\n",
    "        print(out_dir)\n",
    "        \n",
    "        # Build the absolute path to the 'cfe_noahowp_attributes.csv' file in the 'config' subdirectory\n",
    "        cfe_atts_path = out_dir.resolve()/'config/cfe_noahowp_attributes.csv'\n",
    "        \n",
    "        # Call the create_cfe_realization method on the r object,\n",
    "        # passing in the appropriate paths and time parameters\n",
    "        r.create_cfe_realization(out_dir/'config',\n",
    "                             cfe_atts_path,\n",
    "                             time=time,\n",
    "                             config_path=Path(out_dir.resolve()/'config'),\n",
    "                             forcing_path=Path(out_dir.resolve()/'forcings'),\n",
    "                             troute_path=Path(out_dir.resolve()/'config/ngen.yaml'),\n",
    "                             binary_path=Path('/opt/shared')\n",
    "                            )"
   ]
  },
  {
   "cell_type": "code",
   "execution_count": null,
   "id": "996cb79d-fa44-4c82-9ab1-90f69a20fe3f",
   "metadata": {},
   "outputs": [],
   "source": []
  },
  {
   "cell_type": "code",
   "execution_count": 11,
   "id": "b90ac1d1-69fd-4ae9-a3ad-a28bbb3c9a1a",
   "metadata": {},
   "outputs": [
    {
     "data": {
      "application/vnd.jupyter.widget-view+json": {
       "model_id": "434e7ade4e4943acbad2c0d8b763d63b",
       "version_major": 2,
       "version_minor": 0
      },
      "text/plain": [
       "  0%|          | 0/8 [00:00<?, ?it/s]"
      ]
     },
     "metadata": {},
     "output_type": "display_data"
    },
    {
     "name": "stdout",
     "output_type": "stream",
     "text": [
      "wb-694856\n",
      "wb-694725\n",
      "wb-694855\n",
      "wb-694724\n",
      "wb-694854\n",
      "wb-694723\n",
      "wb-698891\n",
      "wb-694722\n"
     ]
    }
   ],
   "source": [
    "# Define the time parameters\n",
    "time={'start_time': '2017-10-26 00:00:00', # Tropical Storm Philippe | 26-Oct-2017 to 1-Nov-2017\n",
    "      'end_time'  : '2017-11-02 00:00:00',\n",
    "      'output_interval': 3600,\n",
    "      'nts': 2016,  # Number of timesteps (288 for 1 day). \n",
    "     } \n",
    "# For nts, first calculate the number of days in your desired simulation time period. Subtract one day from total.\n",
    "# Then, multiply that number by 288. Finally, assign the resulting value to the nts.\n",
    "\n",
    "# List of directories to process\n",
    "ids_list = ['wb-694856', 'wb-694725', 'wb-694855', 'wb-694724', 'wb-694854', 'wb-694723', 'wb-698891', 'wb-694722']\n",
    "\n",
    "# Call the function, passing in the directories list, time parameters, and r object\n",
    "create_cfe_realizations(ids_list, time, r)"
   ]
  },
  {
   "cell_type": "markdown",
   "id": "7374f4ce-4cd7-4501-8ed6-22b82e6cd67b",
   "metadata": {},
   "source": [
    "**Aditional step**: Activate and run the following code cell to modify realization files or NextGen In A Box usage."
   ]
  },
  {
   "cell_type": "code",
   "execution_count": null,
   "id": "650cc997-ba3c-49be-9307-f9985e932e89",
   "metadata": {},
   "outputs": [],
   "source": [
    "# %%bash\n",
    "\n",
    "# wb_id=wb-2917533\n",
    "\n",
    "# sed -i \"s+/home/jovyan/data/notebooks/ngen/${wb_id}+/ngen/ngen/data+g\" ./${wb_id}/config/realization.json\n",
    "# sed -i \"s+/home/jovyan/data/notebooks/ngen/${wb_id}+/ngen/ngen/data+g\" ./${wb_id}/config/ngen.yaml"
   ]
  }
 ],
 "metadata": {
  "kernelspec": {
   "display_name": "Python [conda env:root] *",
   "language": "python",
   "name": "conda-root-py"
  },
  "language_info": {
   "codemirror_mode": {
    "name": "ipython",
    "version": 3
   },
   "file_extension": ".py",
   "mimetype": "text/x-python",
   "name": "python",
   "nbconvert_exporter": "python",
   "pygments_lexer": "ipython3",
   "version": "3.9.16"
  }
 },
 "nbformat": 4,
 "nbformat_minor": 5
}
