{
 "cells": [
  {
   "cell_type": "code",
   "execution_count": 1,
   "id": "74ac0d98-0844-4667-9c83-20c8a192536b",
   "metadata": {
    "tags": []
   },
   "outputs": [],
   "source": [
    "import os\n",
    "import zipfile\n",
    "\n",
    "def zipdir(path, ziph):\n",
    "    # ziph is zipfile handle\n",
    "    for root, dirs, files in os.walk(path):\n",
    "        for file in files:\n",
    "            ziph.write(os.path.join(root, file),\n",
    "                       os.path.relpath(os.path.join(root, file), \n",
    "                                       os.path.join(path, '/home/jovyan/data/clawpack/surge-examples/sanriv/Storms')))\n",
    "\n",
    "zipf = zipfile.ZipFile('storms.zip', 'w', zipfile.ZIP_DEFLATED)\n",
    "zipdir('/home/jovyan/data/clawpack/surge-examples/sanriv/Storms', zipf)\n",
    "zipf.close()\n"
   ]
  },
  {
   "cell_type": "code",
   "execution_count": null,
   "id": "15fb0c15-3d93-4cdc-8461-a4c2cb796a4b",
   "metadata": {},
   "outputs": [],
   "source": []
  }
 ],
 "metadata": {
  "kernelspec": {
   "display_name": "Python 3 (ipykernel)",
   "language": "python",
   "name": "python3"
  },
  "language_info": {
   "codemirror_mode": {
    "name": "ipython",
    "version": 3
   },
   "file_extension": ".py",
   "mimetype": "text/x-python",
   "name": "python",
   "nbconvert_exporter": "python",
   "pygments_lexer": "ipython3",
   "version": "3.9.16"
  }
 },
 "nbformat": 4,
 "nbformat_minor": 5
}
