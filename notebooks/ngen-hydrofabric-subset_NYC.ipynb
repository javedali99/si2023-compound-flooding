{
 "cells": [
  {
   "cell_type": "markdown",
   "id": "cc3872d5-fe42-49a0-aee9-823d58af0e11",
   "metadata": {
    "tags": []
   },
   "source": [
    "# Subset NGEN HydroFabric on S3\n",
    "\n",
    "**Authors:**  \n",
    "   - Tony Castronova <acastronova@cuahsi.org>    \n",
    "   - Irene Garousi-Nejad <igarousi@cuahsi.org>  \n",
    "    \n",
    "**Last Updated:** 05.17.2023   \n",
    "\n",
    "**Description**:  \n",
    "\n",
    "The purpose of this Jupyter Notebook is to demonstrate the process of preparing inputs required to execute the [NOAA Next Generation (NextGen) Water Resource Modeling Framework](https://github.com/NOAA-OWP/ngen). These inputs consist of the following components: \n",
    "\n",
    "- Hydrologic and hydrodynamic graphs based on the National Hydrologic Geospatial (Hydrofabric) data which includes catchments, nexus, and flowlines. \n",
    "- Model domain parameters represented as configuration files.\n",
    "- Meteorological forcing data.\n",
    "\n",
    " The Hydrofabric data can be accessed publicly through the AWS catalog. In this notebook, we use the **pre-release** version of the dataset, which represents the most recent version available on the Amazon S3 Bucket at the time of developing this notebook (https://nextgen-hydrofabric.s3.amazonaws.com/index.html#pre-release/). The configuration files encompass model default parameters, formulations, input and output paths, simulation time step, initial conditions, and other relevant settings. This example demonstrates the retrieval of hydrofabric data, followed by the extraction of necessary infromation for creating the parameter configuration file. These files are created for running Conceptual Functional Equivalent (CFE) model and Simple Logical Tautology Handler (SLoTH) in the NGEN framework. To prepare forcing data, run the *ngen-hydrofabric-subset.ipynb* Jupyter Notebook.\n",
    "\n",
    "**Software Requirements**:  \n",
    "\n",
    "The software and operating system versions used to develop this notebook are listed below. To avoid encountering issues related to version conflicts among Python packages, we recommend creating a new environment variable and installing the required packages specifically for this notebook.\n",
    "\n",
    "Tested on: MacOS Ventura 13.2.1  \n",
    "\n",
    "> boto3: 1.26.76  \n",
    "  dask-core: 2023.4.0  \n",
    "  fiona: 1.9.3  \n",
    "  fsspec: 2023.4.0  \n",
    "  geopandas: 0.12.2   \n",
    "  ipyleaflet: 0.17.2  \n",
    "  ipywidgets: 7.7.5   \n",
    "  matplotlib: 3.7.1   \n",
    "  netcdf4: 1.6.3   \n",
    "  numpy: 1.24.2  \n",
    "  pandas: 2.0.0  \n",
    "  requests: 2.28.2  \n",
    "  s3fs: 2023.4.0  \n",
    "  scipy: 1.10.1  \n",
    "  xarray: 2023.4.1\n",
    "  \n",
    "**Supplementary Code**\n",
    "\n",
    "This notebook relies on the following external scripts:  \n",
    "- `subset.py` - A script originally written by Nels Frazier to subset the NGen Hydrofabric\n",
    "\n",
    "---"
   ]
  },
  {
   "cell_type": "code",
   "execution_count": 2,
   "id": "c354f815-4e05-4a57-86d1-213a1536d801",
   "metadata": {
    "tags": []
   },
   "outputs": [],
   "source": [
    "import os\n",
    "import time\n",
    "import pandas\n",
    "import subset\n",
    "import pyproj\n",
    "import datetime\n",
    "import geopandas\n",
    "import ipyleaflet\n",
    "import geopandas as gpd\n",
    "from pathlib import Path\n",
    "from sidecar import Sidecar\n",
    "from requests import Request\n",
    "from ipywidgets import Layout"
   ]
  },
  {
   "cell_type": "markdown",
   "id": "32efd6e0-a664-4f98-98ec-c96bf55e2944",
   "metadata": {},
   "source": [
    "## 1. Create a map and load the Hydrofabric VPU geometries"
   ]
  },
  {
   "cell_type": "markdown",
   "id": "c9c672fc-9635-460b-bef0-64338759f036",
   "metadata": {},
   "source": [
    "The following cell creates an interactive map that encompasses the Hydrofabric VPU (Vector Processing Units) geometries. These geometries have been prepared ahead of time and are stored in a HydroShare [resource](https://www.hydroshare.org/resource/35e8c6023c154b6298fcda280beda849/). HydroShare offers convinient access to [WMS (Web Map Service)](https://docs.geoserver.org/latest/en/user/services/wms/index.html) and [WFS (Web Feature Service)](https://docs.geoserver.org/latest/en/user/services/wfs/index.html) capabilities, allowing us to easily display these geometries on an interactive map. These services facilitate the visualization and exploration of the data in a user-friendly manner."
   ]
  },
  {
   "cell_type": "markdown",
   "id": "0c71b423-e70b-4132-a0ac-0dfe88a4a069",
   "metadata": {},
   "source": [
    "Create a dictionary containing the HydroShare resource ID's of the NextGen hydrofabric boundaries. The vector data for these geometries can be obtained from the following HydroShare resource:\n",
    "\n",
    "https://www.hydroshare.org/resource/3fbeb99e896b4d5f814aa512e8b87af5/"
   ]
  },
  {
   "cell_type": "code",
   "execution_count": 3,
   "id": "430e0708-73fa-4adb-a76e-cef0fdf13553",
   "metadata": {
    "tags": []
   },
   "outputs": [],
   "source": [
    "geometry_urls = {\n",
    "'all_regions':'35e8c6023c154b6298fcda280beda849',\n",
    "'16':  'e8ddee6a8a90484fa7a976458e79c0c3',\n",
    "'01':  '5f0e81c665314967a1e15e4ae672aaae',\n",
    "'02':  '131a6d6cc6514b558f968716783d7d47',\n",
    "'03N': '38c84132987243c2a49ffb9d178f3162',\n",
    "'03S': '5d9cdd0b6851460aaccd0c83557e4a6c',\n",
    "'03W': '5674050a194c41b8a61f000c94c27983',\n",
    "'04':  'd161033e07634d6199ae136a24807f22',\n",
    "'05':  '47113551c63b41daa53465aee6cb69e9',\n",
    "'06':  '1302f07176cd46e2ab70db730e601682',\n",
    "'07':  'b380393bebaf47e68afd98fb15f4ff10',\n",
    "'08':  '2391aadf1f4440499e7b61b4dcc41d94',\n",
    "'09':  '27670ef43fbf42be914e1fca7d41ce0b',\n",
    "'10L': 'b5028b1c8b5240f8b7deb3bcebc2f005',\n",
    "'10U': 'b6dca803df5a4a8c8120512ccdfe8ba9',\n",
    "'11':  '8e7a4c951c8241269e47ee461c1d9ef3',\n",
    "'12':  '8ea1c9e098f044318777bf283c1fc0ad',\n",
    "'13':  'b166308dffed4db39083393a894c3694',\n",
    "'15':  '68501dc3b6214aca8d92aaae75aee941',\n",
    "'16':  '1244ac2f25b0442cacece320424c6756',\n",
    "'17':  'da20b06af50d4adab080597ae4ae8c46',\n",
    "'18':  'ca2e56965245476fbcb258b7d2aec7ab',\n",
    "'14':  '2d78b60ad0cf469daced4c4aa37764ad',\n",
    "}"
   ]
  },
  {
   "cell_type": "code",
   "execution_count": 4,
   "id": "a8c882f2-484a-4d14-9bdc-f0c1f2a3152f",
   "metadata": {
    "tags": []
   },
   "outputs": [],
   "source": [
    "defaultLayout=Layout(width='960px', height='940px')\n",
    "\n",
    "map_center = (41.74614949822607, -111.76617850993877) # logan, UT\n",
    "m = ipyleaflet.Map(\n",
    "    basemap=ipyleaflet.basemap_to_tiles(ipyleaflet.basemaps.OpenStreetMap.Mapnik, layout=defaultLayout),\n",
    "    center=map_center,\n",
    "    zoom=9,\n",
    "    scroll_wheel_zoom=True,\n",
    "    tap=False\n",
    "    )\n",
    "\n",
    "# add USGS Gages\n",
    "m.add_layer(\n",
    "    ipyleaflet.WMSLayer(\n",
    "        url='http://arcgis.cuahsi.org/arcgis/services/NHD/usgs_gages/MapServer/WmsServer',\n",
    "        layers='0',\n",
    "        transparent=True,\n",
    "        format='image/png',\n",
    "        min_zoom=8,\n",
    "        max_zoom=18,\n",
    "        )\n",
    ")\n",
    "\n",
    "# add the CONUS VPU boundaries\n",
    "hs_wms_res_all = f'HS-{geometry_urls[\"all_regions\"]}'\n",
    "m.add_layer(\n",
    "    ipyleaflet.WMSLayer(\n",
    "        url=f'https://geoserver.hydroshare.org/geoserver/{hs_wms_res_all}/wms?',\n",
    "        layers='vpu_boundaries',\n",
    "        format='image/png',\n",
    "        transparent=True,\n",
    "        opacity=0.5,\n",
    "        min_zoom=4,\n",
    "        max_zoom=8\n",
    "    )\n",
    ")\n",
    "\n",
    "# add the watershed VPU boundaries for each region.\n",
    "#for vpu in ['01', '02','03N','03S','03W', '04','05','06','07','08','09','10L','10U','11','12','13','14','15','16','17','18']:\n",
    "for vpu in ['02']:\n",
    "    hs_wms_res = f'HS-{geometry_urls[vpu]}'\n",
    "    m.add_layer(\n",
    "        ipyleaflet.WMSLayer(\n",
    "            url=f'https://geoserver.hydroshare.org/geoserver/{hs_wms_res}/wms?',\n",
    "            layers=f'{vpu}_boundaries',\n",
    "            format='image/png',\n",
    "            transparent=True,\n",
    "            opacity=0.5,\n",
    "            min_zoom=8,\n",
    "            max_zoom=18\n",
    "        )\n",
    "    )\n"
   ]
  },
  {
   "cell_type": "markdown",
   "id": "8731a993-6478-4887-899c-7f8009702c2b",
   "metadata": {},
   "source": [
    "## 2. Enable interactive geometry selection "
   ]
  },
  {
   "cell_type": "markdown",
   "id": "70d69c43-6c97-4e2d-8a9e-c24f1ee74174",
   "metadata": {},
   "source": [
    "Now, let's introduce an event handler that empowers us to highlight and store geometries that are clicked on the map. The following function utilizes the `WFS` endpoint to fetch the shape's boundary when a geometry is clicked on the map. This boundary will be drawn on the map, enabling us to visually identify the selected area.Additionally, we will store the information about the selected area for later use, particularly when we need to collect the upstream catchments associated with the selected area. "
   ]
  },
  {
   "cell_type": "code",
   "execution_count": 5,
   "id": "807970de-8af1-43d0-8511-c616e2b7eab5",
   "metadata": {
    "tags": []
   },
   "outputs": [],
   "source": [
    "selected_df = None\n",
    "\n",
    "def handle_map_interaction(**kwargs):\n",
    "    global selected_df\n",
    "    \n",
    "    if kwargs.get('type') == 'click':\n",
    "        hs_wms_vpu_all = f'HS-{geometry_urls[\"all_regions\"]}' # all_regions\n",
    "        coords = kwargs['coordinates'] \n",
    "        url = f'https://geoserver.hydroshare.org/geoserver/{hs_wms_vpu_all}/wfs?' \\\n",
    "               'service=wfs&version=2.0.0&' \\\n",
    "              f'request=getFeature&' \\\n",
    "               'srsName=EPSG:4269&' \\\n",
    "              f'bbox={coords[1]},{coords[0]},{coords[1]},{coords[0]},EPSG:4269&' \\\n",
    "              f'typeName=vpu_boundaries&' \\\n",
    "               'outputFormat=json&' \\\n",
    "               'PropertyName=VPU'\n",
    "        print(url)\n",
    "\n",
    "        q = Request('GET', url).prepare().url\n",
    "        df = gpd.read_file(q, format='json')\n",
    "        \n",
    "        # exit if a VPU is not found, i.e. a user doesn't click on the layer\n",
    "        if len(df) == 0: return\n",
    "        \n",
    "        VPU = df.VPU.values[0]\n",
    "        hs_wms_res = f'HS-{geometry_urls[VPU]}'\n",
    "        print(f'You selected VPU {VPU}')\n",
    "        url = f'https://geoserver.hydroshare.org/geoserver/{hs_wms_res}/wfs?' \\\n",
    "               'service=wfs&version=2.0.0&' \\\n",
    "              f'request=getFeature&' \\\n",
    "               'srsName=EPSG:4269&' \\\n",
    "              f'bbox={coords[1]},{coords[0]},{coords[1]},{coords[0]},EPSG:4269&' \\\n",
    "              f'typeName={VPU}_boundaries&' \\\n",
    "               'outputFormat=json&'\n",
    "\n",
    "        q = Request('GET', url).prepare().url\n",
    "        df = gpd.read_file(q, format='json')\n",
    "\n",
    "        # exit if a VPU is not found, i.e. a user doesn't click on the layer\n",
    "        if len(df) == 0: return\n",
    "    \n",
    "        # save vpu region, convert crs, and save selection for later\n",
    "        df['VPU'] = VPU \n",
    "        df = df.to_crs('EPSG:4269')\n",
    "        selected_df = df\n",
    "        \n",
    "        if type(m.layers[-1]) == ipyleaflet.WKTLayer:\n",
    "            m.remove_layer(m.layers[-1])\n",
    "            \n",
    "        # display the watershed boundary on the map\n",
    "        m.add_layer(ipyleaflet.WKTLayer(wkt_string=df.iloc[0].geometry.wkt))\n",
    "        \n",
    "m.on_interaction(handle_map_interaction)"
   ]
  },
  {
   "cell_type": "markdown",
   "id": "091faa22-689e-4e2f-8e3c-02244e530d2e",
   "metadata": {},
   "source": [
    "Display the map"
   ]
  },
  {
   "cell_type": "code",
   "execution_count": 6,
   "id": "c1b6fa44-1657-42c5-9fa4-b550eede388f",
   "metadata": {
    "tags": []
   },
   "outputs": [],
   "source": [
    "sc = Sidecar(title='NGEN HydroFabric Map')\n",
    "with sc:\n",
    "    display(m)"
   ]
  },
  {
   "cell_type": "markdown",
   "id": "d1b8729c-fd1e-4206-83b0-1fc0d1fbe0c8",
   "metadata": {},
   "source": [
    "Select the VPU of interest. Run the following code cell to print the `id` of the selected area. "
   ]
  },
  {
   "cell_type": "code",
   "execution_count": 16,
   "id": "2ac5a477-93df-48d3-b3a6-f9b09d606665",
   "metadata": {
    "tags": []
   },
   "outputs": [
    {
     "data": {
      "text/plain": [
       "0    wb-698880\n",
       "Name: id, dtype: object"
      ]
     },
     "execution_count": 16,
     "metadata": {},
     "output_type": "execute_result"
    }
   ],
   "source": [
    "selected_df.id"
   ]
  },
  {
   "cell_type": "markdown",
   "id": "b5d3093d-7d14-41a5-87d8-2d345ef6c963",
   "metadata": {},
   "source": [
    "## 3. Subset hydrofabric data for the selected area"
   ]
  },
  {
   "cell_type": "markdown",
   "id": "0e63fd4e-b755-4648-89db-12bf5f063614",
   "metadata": {},
   "source": [
    "The following code passes the `id` and `VPU` values of the geometries selected on the map (`selected_df`) to the hydrofabric subsetting script (`subset.py`). The subsetting algorithm implemented in the code adopts a reverse tracing technique called `subset_upstream`. It systematically identifies and selects all the upstream divides, catchments, nexuses, and flowlines starting from the most downstream nexus linked to the chosen geometries."
   ]
  },
  {
   "cell_type": "code",
   "execution_count": 22,
   "id": "28af8c32-011d-4981-a614-1d5f62de424c",
   "metadata": {
    "tags": []
   },
   "outputs": [
    {
     "name": "stdout",
     "output_type": "stream",
     "text": [
      "--------------------------------------------------\n",
      "Processing VPU ['02'], wb-699876 \n",
      "s3://nextgen-hydrofabric/pre-release/nextgen_02.gpkg\n"
     ]
    },
    {
     "name": "stderr",
     "output_type": "stream",
     "text": [
      "WARNING:fiona._env:File /vsimem/48c5865eeb544734b18f3e559414daac/48c5865eeb544734b18f3e559414daac has GPKG application_id, but non conformant file extension\n",
      "WARNING:fiona._env:File /vsimem/5f0df43847d2461499ac7a549e336024 has GPKG application_id, but non conformant file extension\n",
      "WARNING:fiona._env:File /vsimem/79654b5712eb49d9b185d160dc7ebdf9 has GPKG application_id, but non conformant file extension\n",
      "WARNING:fiona._env:File /vsimem/db7115749729482e8a9f2322e4084477 has GPKG application_id, but non conformant file extension\n"
     ]
    },
    {
     "name": "stdout",
     "output_type": "stream",
     "text": [
      "Building Graph Network\n"
     ]
    },
    {
     "name": "stderr",
     "output_type": "stream",
     "text": [
      "WARNING:fiona._env:File /vsimem/2c2dbec7ef5149d7ba2b48d910794943 has GPKG application_id, but non conformant file extension\n",
      "WARNING:fiona._env:File /vsimem/82b192683dcf4199be93dbe80aaa47f8 has GPKG application_id, but non conformant file extension\n",
      "WARNING:fiona._env:File /vsimem/e0d385d5a7144588ae51644fed86226a has GPKG application_id, but non conformant file extension\n",
      "WARNING:fiona._env:File /vsimem/edf45b211afb448c91931da536477542 has GPKG application_id, but non conformant file extension\n",
      "WARNING:fiona._env:File /vsimem/8be4ddaba2784339aced627f73147cf8 has GPKG application_id, but non conformant file extension\n",
      "/opt/conda/lib/python3.9/site-packages/geopandas/io/file.py:572: UserWarning: You are attempting to write an empty DataFrame to file. For some drivers, this operation may fail.\n",
      "  _to_file_fiona(df, filename, driver, schema, crs, mode, **kwargs)\n",
      "/opt/conda/lib/python3.9/site-packages/geopandas/io/file.py:572: UserWarning: You are attempting to write an empty DataFrame to file. For some drivers, this operation may fail.\n",
      "  _to_file_fiona(df, filename, driver, schema, crs, mode, **kwargs)\n"
     ]
    },
    {
     "name": "stdout",
     "output_type": "stream",
     "text": [
      "Output files located at: wb-699876_3\n",
      "Completed in 100.67698550224304 seconds\n",
      "--------------------------------------------------\n",
      "--------------------------------------------------\n",
      "Processing VPU ['02'], wb-699385 \n",
      "s3://nextgen-hydrofabric/pre-release/nextgen_02.gpkg\n"
     ]
    },
    {
     "name": "stderr",
     "output_type": "stream",
     "text": [
      "WARNING:fiona._env:File /vsimem/897abc2c95b94a56838a39524298ef16/897abc2c95b94a56838a39524298ef16 has GPKG application_id, but non conformant file extension\n",
      "WARNING:fiona._env:File /vsimem/896df2f2f59241eea2a92db500e037b0 has GPKG application_id, but non conformant file extension\n",
      "WARNING:fiona._env:File /vsimem/2793440408ac4c098a9c9702dc65806f has GPKG application_id, but non conformant file extension\n",
      "WARNING:fiona._env:File /vsimem/3b26a7882b0f4dcc84f432d247ccc81a has GPKG application_id, but non conformant file extension\n"
     ]
    },
    {
     "name": "stdout",
     "output_type": "stream",
     "text": [
      "Building Graph Network\n"
     ]
    },
    {
     "name": "stderr",
     "output_type": "stream",
     "text": [
      "WARNING:fiona._env:File /vsimem/22e65df711374e39ad51808d6ebdfd83 has GPKG application_id, but non conformant file extension\n",
      "WARNING:fiona._env:File /vsimem/1f9b233aafe94264958c0f655f56bf15 has GPKG application_id, but non conformant file extension\n",
      "WARNING:fiona._env:File /vsimem/d0d0d4b855b8445b8cae0157e9fc5ffa has GPKG application_id, but non conformant file extension\n",
      "WARNING:fiona._env:File /vsimem/2643f1686ba64d64a5c8f621f2166de3 has GPKG application_id, but non conformant file extension\n",
      "WARNING:fiona._env:File /vsimem/bf531ce3ca9647e3a9ff884aacd39860 has GPKG application_id, but non conformant file extension\n",
      "/opt/conda/lib/python3.9/site-packages/geopandas/io/file.py:572: UserWarning: You are attempting to write an empty DataFrame to file. For some drivers, this operation may fail.\n",
      "  _to_file_fiona(df, filename, driver, schema, crs, mode, **kwargs)\n"
     ]
    },
    {
     "name": "stdout",
     "output_type": "stream",
     "text": [
      "Output files located at: wb-699385\n",
      "Completed in 101.06856489181519 seconds\n",
      "--------------------------------------------------\n",
      "--------------------------------------------------\n",
      "Processing VPU ['02'], wb-699949 \n",
      "s3://nextgen-hydrofabric/pre-release/nextgen_02.gpkg\n"
     ]
    },
    {
     "name": "stderr",
     "output_type": "stream",
     "text": [
      "WARNING:fiona._env:File /vsimem/a6e8c17425184e36918c853e97c1c228/a6e8c17425184e36918c853e97c1c228 has GPKG application_id, but non conformant file extension\n",
      "WARNING:fiona._env:File /vsimem/a1b1f2bce1c64e27b13089c269019454 has GPKG application_id, but non conformant file extension\n",
      "WARNING:fiona._env:File /vsimem/74d574dcbe94453ca362d89f14648b62 has GPKG application_id, but non conformant file extension\n",
      "WARNING:fiona._env:File /vsimem/97e8a85a2ce84a93824093d63e6a6f94 has GPKG application_id, but non conformant file extension\n"
     ]
    },
    {
     "name": "stdout",
     "output_type": "stream",
     "text": [
      "Building Graph Network\n"
     ]
    },
    {
     "name": "stderr",
     "output_type": "stream",
     "text": [
      "WARNING:fiona._env:File /vsimem/dc580d9652a84625b4cdd04bf48b4782 has GPKG application_id, but non conformant file extension\n",
      "WARNING:fiona._env:File /vsimem/254844d736f74e11aa097795da26785b has GPKG application_id, but non conformant file extension\n",
      "WARNING:fiona._env:File /vsimem/fdf0b07a2ec444cbb45f50b864d6f0a4 has GPKG application_id, but non conformant file extension\n",
      "WARNING:fiona._env:File /vsimem/c6c61868d7264f01940c53ee70ebe528 has GPKG application_id, but non conformant file extension\n",
      "WARNING:fiona._env:File /vsimem/68a78508691a480abb73dc494c9addf2 has GPKG application_id, but non conformant file extension\n",
      "/opt/conda/lib/python3.9/site-packages/geopandas/io/file.py:572: UserWarning: You are attempting to write an empty DataFrame to file. For some drivers, this operation may fail.\n",
      "  _to_file_fiona(df, filename, driver, schema, crs, mode, **kwargs)\n"
     ]
    },
    {
     "name": "stdout",
     "output_type": "stream",
     "text": [
      "Output files located at: wb-699949\n",
      "Completed in 99.2704815864563 seconds\n",
      "--------------------------------------------------\n",
      "--------------------------------------------------\n",
      "Processing VPU ['02'], wb-698880 \n",
      "s3://nextgen-hydrofabric/pre-release/nextgen_02.gpkg\n"
     ]
    },
    {
     "name": "stderr",
     "output_type": "stream",
     "text": [
      "WARNING:fiona._env:File /vsimem/fa28e63b38ca4ae39fd3f48fa2bc7a76/fa28e63b38ca4ae39fd3f48fa2bc7a76 has GPKG application_id, but non conformant file extension\n",
      "WARNING:fiona._env:File /vsimem/e15cb48dab9b4c76913feba195e1eb44 has GPKG application_id, but non conformant file extension\n",
      "WARNING:fiona._env:File /vsimem/6373fe31b07e4828b3eddc493c5487f4 has GPKG application_id, but non conformant file extension\n",
      "WARNING:fiona._env:File /vsimem/8dfb3d22262e46519bb3e042630c9880 has GPKG application_id, but non conformant file extension\n"
     ]
    },
    {
     "name": "stdout",
     "output_type": "stream",
     "text": [
      "Building Graph Network\n"
     ]
    },
    {
     "name": "stderr",
     "output_type": "stream",
     "text": [
      "WARNING:fiona._env:File /vsimem/5910d5e555954a48bafdb8bb163af0bd has GPKG application_id, but non conformant file extension\n",
      "WARNING:fiona._env:File /vsimem/fa59de87b254467d8aae5e3274c084b9 has GPKG application_id, but non conformant file extension\n",
      "WARNING:fiona._env:File /vsimem/f1e48a9f24344b068ca289b3d1809de9 has GPKG application_id, but non conformant file extension\n",
      "WARNING:fiona._env:File /vsimem/ef18b28f54674792a2b4a7d92e117e70 has GPKG application_id, but non conformant file extension\n",
      "WARNING:fiona._env:File /vsimem/8cac1a5d6fbc464db57d9947567de5e3 has GPKG application_id, but non conformant file extension\n",
      "/opt/conda/lib/python3.9/site-packages/geopandas/io/file.py:572: UserWarning: You are attempting to write an empty DataFrame to file. For some drivers, this operation may fail.\n",
      "  _to_file_fiona(df, filename, driver, schema, crs, mode, **kwargs)\n"
     ]
    },
    {
     "name": "stdout",
     "output_type": "stream",
     "text": [
      "Output files located at: wb-698880\n",
      "Completed in 101.18217062950134 seconds\n",
      "--------------------------------------------------\n"
     ]
    }
   ],
   "source": [
    "ids_list = 'wb-699876', 'wb-699385', 'wb-699949', 'wb-698880'\n",
    "ids = list(ids_list) # selected_df.id.values, you can also put id manually ['wb-2917533'] \n",
    "vpus = ['02'] # list(selected_df.VPU.values) #['16'] \n",
    "\n",
    "output_files = []\n",
    "for i in range(0, len(ids)):    \n",
    "    print(50*'-'+f'\\nProcessing VPU {vpus}, {ids[i]} ')\n",
    "    st = time.time()\n",
    "    # build the hydrofabric_url\n",
    "    # the complete dataset can be found at: https://nextgen-hydrofabric.s3.amazonaws.com/index.html#pre-release/\n",
    "    hydrofabric_url = f's3://nextgen-hydrofabric/pre-release/nextgen_02.gpkg' #{vpus[i]} in place of 02\n",
    "    subset.subset_upstream(hydrofabric_url, ids[i])\n",
    "    \n",
    "    # move these files into a subdir to keep things orderly\n",
    "    counter = 1\n",
    "    outpath = ids[i]\n",
    "    while os.path.exists(outpath):\n",
    "        outpath = ids[i] + \"_\" + str(counter)\n",
    "        counter += 1\n",
    "    os.mkdir(outpath)\n",
    "    for subdir in ['config', 'forcings', 'outputs']:\n",
    "        os.mkdir(os.path.join(outpath, subdir))\n",
    "\n",
    "    for f in [f'{ids[i]}_upstream_subset.gpkg',\n",
    "              'catchments.geojson',\n",
    "              'crosswalk.json',\n",
    "              'flowpath_edge_list.json',\n",
    "              'flowpaths.geojson',\n",
    "              'nexus.geojson',\n",
    "              'cfe_noahowp_attributes.csv']:\n",
    "        os.rename(f, os.path.join(outpath, 'config', f))\n",
    "        \n",
    "    # output_files.append(f'{ids[i]}_upstream_subset.gpkg')\n",
    "    print(f'Output files located at: {outpath}')\n",
    "    print(f'Completed in {time.time() - st} seconds\\n'+50*'-')    \n",
    "\n",
    "outdir = Path(outpath)"
   ]
  },
  {
   "cell_type": "markdown",
   "id": "e6410e7b-f225-406d-adb9-c7cefdc07171",
   "metadata": {},
   "source": [
    "## 4. Add the Subset Hydrofabric to the map\n"
   ]
  },
  {
   "cell_type": "markdown",
   "id": "3f7e1ec5-666f-4e65-ad69-8d470d918eaf",
   "metadata": {},
   "source": [
    "Execute the following code cell to add the subset catchments and rivers from the geopackage file  as visual overlays on the map. In this section, we begin by reading the shapefiles stored within the geopackage file. We then proceed to transform the projection system of these shapes into Web Mercator, the desired coordinate reference system for our map. Next, we create a WKTLayer for each catchment and river in the subset shapefiles. A WKTLayer enables us to represent the shape's geometry using a WKT string, which provides a concise description of its spatial properties."
   ]
  },
  {
   "cell_type": "code",
   "execution_count": 25,
   "id": "d2acb76f-0414-4293-a815-143a84c7cbd5",
   "metadata": {
    "tags": []
   },
   "outputs": [
    {
     "data": {
      "text/plain": [
       "'/home/jovyan/data/cuahsi-workshop/notebooks/ngen'"
      ]
     },
     "execution_count": 25,
     "metadata": {},
     "output_type": "execute_result"
    }
   ],
   "source": [
    "os.getcwd()"
   ]
  },
  {
   "cell_type": "code",
   "execution_count": 34,
   "id": "56588a21-12a3-44d0-9af6-a0abe9accf26",
   "metadata": {
    "tags": []
   },
   "outputs": [
    {
     "data": {
      "text/plain": [
       "PosixPath('wb-698880')"
      ]
     },
     "execution_count": 34,
     "metadata": {},
     "output_type": "execute_result"
    }
   ],
   "source": [
    "outdir"
   ]
  },
  {
   "cell_type": "code",
   "execution_count": 39,
   "id": "f8c041a2-a5c2-4c45-b19a-9fbae82e9480",
   "metadata": {
    "tags": []
   },
   "outputs": [],
   "source": [
    "ids_list = ['wb-699876', 'wb-699385', 'wb-699949', 'wb-698880']\n",
    "\n",
    "# define the target projection as EPSG:4269 - Web Mercator\n",
    "# this is the default crs for leaflet\n",
    "target_crs = pyproj.Proj('4269')\n",
    "\n",
    "# Dictionaries to store catchments and rivers data for each id\n",
    "catchments_dict = {}\n",
    "rivers_dict = {}\n",
    "\n",
    "for i in ids_list:\n",
    "    # outdir\n",
    "    out_dir = Path(i)\n",
    "\n",
    "    # read the shapes\n",
    "    catchments = geopandas.read_file(f'{out_dir}/config/{i}_upstream_subset.gpkg',\n",
    "                              layer='divides')\n",
    "    rivers = geopandas.read_file(f'{out_dir}/config/{i}_upstream_subset.gpkg',\n",
    "                              layer='flowpaths')\n",
    "\n",
    "    # transform the shapefile into EPSG:4269\n",
    "    catchments = catchments.to_crs(target_crs.crs)\n",
    "    rivers = rivers.to_crs(target_crs.crs)\n",
    "\n",
    "    # Store the catchments and rivers data for this id in the dictionaries\n",
    "    catchments_dict[i] = catchments\n",
    "    rivers_dict[i] = rivers\n",
    "\n",
    "# Now iterate over the stored data and add to the map\n",
    "for i in ids_list:\n",
    "    # add the catchments to the map\n",
    "    for idx, shape in catchments_dict[i].iterrows():\n",
    "        wkt = ipyleaflet.WKTLayer(wkt_string=shape.geometry.wkt)\n",
    "        wkt.style = {'color': 'green'}\n",
    "        m.add_layer(wkt)\n",
    "\n",
    "    # add the rivers to the map\n",
    "    for idx, shape in rivers_dict[i].iterrows():\n",
    "        wkt = ipyleaflet.WKTLayer(wkt_string=shape.geometry.wkt)\n",
    "        wkt.style = {'color': 'blue'}\n",
    "        m.add_layer(wkt)\n"
   ]
  },
  {
   "cell_type": "code",
   "execution_count": 40,
   "id": "c042621b-5525-41cf-97ee-2c5bfe886921",
   "metadata": {
    "tags": []
   },
   "outputs": [],
   "source": [
    "# # read the shapes\n",
    "# catchments = geopandas.read_file(f'{outdir}/config/{ids[0]}_upstream_subset.gpkg', # ids = selected_df.id[0]\n",
    "#                           layer='divides')\n",
    "# rivers = geopandas.read_file(f'{outdir}/config/{ids[0]}_upstream_subset.gpkg',\n",
    "#                           layer='flowpaths')\n",
    "\n",
    "# # define the target projection as EPSG:4269 - Web Mercator\n",
    "# # this is the default crs for leaflet\n",
    "# target_crs = pyproj.Proj('4269')\n",
    "\n",
    "# # transform the shapefile into EPSG:4269\n",
    "# catchments = catchments.to_crs(target_crs.crs)\n",
    "# rivers = rivers.to_crs(target_crs.crs)\n",
    "\n",
    "# # add the catchments to the map\n",
    "# for idx, shape in catchments.iterrows():\n",
    "#     wkt = ipyleaflet.WKTLayer(wkt_string=shape.geometry.wkt)\n",
    "#     wkt.style = {'color': 'green'}\n",
    "#     m.add_layer(wkt)\n",
    "    \n",
    "# # add the rivers to the map\n",
    "# for idx, shape in rivers.iterrows():\n",
    "#     wkt = ipyleaflet.WKTLayer(wkt_string=shape.geometry.wkt)\n",
    "#     wkt.style = {'color': 'blue'}\n",
    "#     m.add_layer(wkt)"
   ]
  },
  {
   "cell_type": "markdown",
   "id": "7c3118b1-7328-4dcb-ac3d-921cd8a8fa81",
   "metadata": {},
   "source": [
    "## 5. Build Realization "
   ]
  },
  {
   "cell_type": "code",
   "execution_count": 41,
   "id": "94b9681c-8932-4aae-a416-7ceecdd62769",
   "metadata": {
    "tags": []
   },
   "outputs": [],
   "source": [
    "import cfe_realization as r\n",
    "from pathlib import Path"
   ]
  },
  {
   "cell_type": "code",
   "execution_count": 42,
   "id": "29b03e78-d565-4822-a280-71f2df124739",
   "metadata": {
    "tags": []
   },
   "outputs": [],
   "source": [
    "for directory in ids_list:\n",
    "    # select directory\n",
    "    out_dir = Path(directory)\n",
    "    \n",
    "    cfe_atts_path = out_dir.resolve()/'config/cfe_noahowp_attributes.csv'"
   ]
  },
  {
   "cell_type": "code",
   "execution_count": 43,
   "id": "3e5541db-1181-464d-8b49-8df0e84ece10",
   "metadata": {
    "tags": []
   },
   "outputs": [],
   "source": [
    "time={'start_time': '2012-10-22 00:00:00',\n",
    "      'end_time'  : '2012-11-02 00:00:00',\n",
    "      'output_interval': 3600,\n",
    "      'nts': 2592,  # Number of timesteps (288 for 1 day)\n",
    "     }\n",
    "\n",
    "for directory in ids_list:\n",
    "    # select directory\n",
    "    out_dir = Path(directory)\n",
    "    \n",
    "    r.create_cfe_realization(out_dir/'config',\n",
    "                         cfe_atts_path,\n",
    "                         time=time,\n",
    "                         config_path=Path(out_dir.resolve()/'config'),\n",
    "                         forcing_path=Path(out_dir.resolve()/'forcings'),\n",
    "                         troute_path=Path(out_dir.resolve()/'config/ngen.yaml'),\n",
    "                         binary_path=Path('/opt/shared')\n",
    "                        )"
   ]
  },
  {
   "cell_type": "markdown",
   "id": "7374f4ce-4cd7-4501-8ed6-22b82e6cd67b",
   "metadata": {},
   "source": [
    "**Aditional step**: Activate and run the following code cell to modify realization files or NextGen In A Box usage."
   ]
  },
  {
   "cell_type": "code",
   "execution_count": null,
   "id": "650cc997-ba3c-49be-9307-f9985e932e89",
   "metadata": {},
   "outputs": [],
   "source": [
    "# %%bash\n",
    "\n",
    "# wb_id=wb-2917533\n",
    "\n",
    "# sed -i \"s+/home/jovyan/data/notebooks/ngen/${wb_id}+/ngen/ngen/data+g\" ./${wb_id}/config/realization.json\n",
    "# sed -i \"s+/home/jovyan/data/notebooks/ngen/${wb_id}+/ngen/ngen/data+g\" ./${wb_id}/config/ngen.yaml"
   ]
  }
 ],
 "metadata": {
  "kernelspec": {
   "display_name": "Python [conda env:root] *",
   "language": "python",
   "name": "conda-root-py"
  },
  "language_info": {
   "codemirror_mode": {
    "name": "ipython",
    "version": 3
   },
   "file_extension": ".py",
   "mimetype": "text/x-python",
   "name": "python",
   "nbconvert_exporter": "python",
   "pygments_lexer": "ipython3",
   "version": "3.9.16"
  }
 },
 "nbformat": 4,
 "nbformat_minor": 5
}
