{
 "cells": [
  {
   "cell_type": "markdown",
   "id": "7b6ea2cd-00a4-4b4f-b366-b4cf9910566b",
   "metadata": {},
   "source": [
    "# Prepare HydroFabric Map Layers"
   ]
  },
  {
   "cell_type": "markdown",
   "id": "366eb2c8-fb11-48f9-abf6-4183ae893021",
   "metadata": {},
   "source": [
    "**Authors**: \n",
    "- Irene Garousi-Nejad <igarousi@cuahsi.org>, \n",
    "- Tony Castronova <acastronova@cuahsi.org>\n",
    "\n",
    "**Last Updated**: \n",
    "\n",
    "**Description**:  \n",
    "\n",
    "**Software Requirements**:\n",
    "\n",
    "> Conda: 22.9.0  \\\n",
    "> Python: 3.9.16  \\\n",
    "> wget: 3.2  \\\n",
    "> pandas: 2.0.0  \\\n",
    "> geopandas: 0.12.2  \\\n",
    "> fiona:  1.9.1\n",
    "\n",
    "---"
   ]
  },
  {
   "cell_type": "code",
   "execution_count": 1,
   "id": "7e89a229-4939-4dc5-81f9-1f8d92d2247f",
   "metadata": {
    "tags": []
   },
   "outputs": [
    {
     "ename": "ModuleNotFoundError",
     "evalue": "No module named 'boto3'",
     "output_type": "error",
     "traceback": [
      "\u001b[0;31m---------------------------------------------------------------------------\u001b[0m",
      "\u001b[0;31mModuleNotFoundError\u001b[0m                       Traceback (most recent call last)",
      "Cell \u001b[0;32mIn[1], line 1\u001b[0m\n\u001b[0;32m----> 1\u001b[0m \u001b[38;5;28;01mimport\u001b[39;00m \u001b[38;5;21;01mboto3\u001b[39;00m\n\u001b[1;32m      2\u001b[0m \u001b[38;5;28;01mimport\u001b[39;00m \u001b[38;5;21;01mfsspec\u001b[39;00m\n\u001b[1;32m      3\u001b[0m \u001b[38;5;28;01mimport\u001b[39;00m \u001b[38;5;21;01mpandas\u001b[39;00m\n",
      "\u001b[0;31mModuleNotFoundError\u001b[0m: No module named 'boto3'"
     ]
    }
   ],
   "source": [
    "import boto3\n",
    "import fsspec\n",
    "import pandas\n",
    "import geopandas"
   ]
  },
  {
   "cell_type": "markdown",
   "id": "ab0f92bf-ac13-4aab-968e-93b965e1995f",
   "metadata": {},
   "source": [
    "## Merge Boundaries of all VPUs into Regions"
   ]
  },
  {
   "cell_type": "code",
   "execution_count": null,
   "id": "ab63c0bd-4a9b-422c-a750-c00283f41cf0",
   "metadata": {},
   "outputs": [
    {
     "name": "stdout",
     "output_type": "stream",
     "text": [
      "Processing VPU: 16...done\n",
      "CPU times: user 34.8 s, sys: 3.47 s, total: 38.3 s\n",
      "Wall time: 1min 30s\n"
     ]
    }
   ],
   "source": [
    "%%time\n",
    "\n",
    "geoms = []\n",
    "s3 = boto3.resource('s3')\n",
    "s3 = fsspec.filesystem('s3', anon=True)\n",
    "for vpu in ['01', '02','03N','03S','03W', '04','05','06','07','08','09','10L','10U','11','12','13','14','15','16','17','18']:\n",
    "    print(f'Processing VPU: {vpu}', end='...', flush=True)\n",
    "    with s3.open(f's3://nextgen-hydrofabric/pre/nextgen_{vpu}.gpkg') as f:    \n",
    "        # Read the file-like object into a GeoDataFrame\n",
    "        gdf_divide = geopandas.read_file(f, layer='divides')\n",
    "        gdf_divide['geometry'] = gdf_divide.buffer(0.01) # this is necessary to ensure that geometries are valid\n",
    "        geom = gdf_divide.dissolve()\n",
    "        \n",
    "        # save the result in a list\n",
    "        geom['VPU'] = vpu\n",
    "        geom.drop(columns=['id','areasqkm','type','toid'], inplace=True)\n",
    "        geoms.append(geom)\n",
    "    print('done')"
   ]
  },
  {
   "cell_type": "code",
   "execution_count": 55,
   "id": "a1b2f3c5-8087-4d80-98c7-ce675c2b4861",
   "metadata": {},
   "outputs": [],
   "source": [
    "gdf = geopandas.GeoDataFrame(pandas.concat(geoms, ignore_index=True))"
   ]
  },
  {
   "cell_type": "code",
   "execution_count": 58,
   "id": "c2191763-b0e1-4dbc-828f-373621398199",
   "metadata": {},
   "outputs": [],
   "source": [
    "gdf.to_file('vpu_boundaries.shp', driver='ESRI Shapefile')"
   ]
  },
  {
   "cell_type": "code",
   "execution_count": null,
   "id": "ba3ed419-a741-4606-8073-fdb317e79eb0",
   "metadata": {},
   "outputs": [],
   "source": []
  },
  {
   "cell_type": "code",
   "execution_count": null,
   "id": "e01e6439-a440-41d4-9cb8-9030e42dbb47",
   "metadata": {},
   "outputs": [],
   "source": []
  },
  {
   "cell_type": "markdown",
   "id": "c953b759-3b35-49ee-9cef-526195f76405",
   "metadata": {},
   "source": [
    "## Save Boundaries for Each VPU"
   ]
  },
  {
   "cell_type": "code",
   "execution_count": 3,
   "id": "fb9c6da7-3426-4b4d-9296-fcec6b417aba",
   "metadata": {},
   "outputs": [
    {
     "name": "stdout",
     "output_type": "stream",
     "text": [
      "Processing VPU: 16...done\n"
     ]
    }
   ],
   "source": [
    "s3 = boto3.resource('s3')\n",
    "s3 = fsspec.filesystem('s3', anon=True)\n",
    "\n",
    "\n",
    "#for vpu in ['01', '02','03N','03S','03W', '04','05','06','07','08','09','10L','10U','11','12','13','14','15','16','17','18']:\n",
    "for vpu in ['16']:\n",
    "    print(f'Processing VPU: {vpu}', end='...', flush=True)\n",
    "    with s3.open(f's3://nextgen-hydrofabric/v1.2/nextgen_{vpu}.gpkg') as f:    \n",
    "        # Read the file-like object into a GeoDataFrame\n",
    "        gdf = geopandas.read_file(f, layer='divides')\n",
    "        gdf.to_file(f'{vpu}_boundaries.shp', driver='ESRI Shapefile')\n",
    "    print('done')\n",
    "    \n",
    "\n"
   ]
  }
 ],
 "metadata": {
  "kernelspec": {
   "display_name": "Python [conda env:root] *",
   "language": "python",
   "name": "conda-root-py"
  },
  "language_info": {
   "codemirror_mode": {
    "name": "ipython",
    "version": 3
   },
   "file_extension": ".py",
   "mimetype": "text/x-python",
   "name": "python",
   "nbconvert_exporter": "python",
   "pygments_lexer": "ipython3",
   "version": "3.9.16"
  }
 },
 "nbformat": 4,
 "nbformat_minor": 5
}
