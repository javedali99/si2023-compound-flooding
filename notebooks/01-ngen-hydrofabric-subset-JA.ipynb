{
 "cells": [
  {
   "cell_type": "markdown",
   "id": "cc3872d5-fe42-49a0-aee9-823d58af0e11",
   "metadata": {
    "tags": []
   },
   "source": [
    "# Subset NextGen HydroFabric on S3 for New York City\n",
    "\n",
    "**Author:** [Javed Ali](https://www.javedali.net/) (University of Central Florida)  \n",
    " \n",
    "    \n",
    "**Date:** 06.26.2023   \n",
    "\n",
    "**Description**:  \n",
    "\n",
    "The purpose of this Jupyter Notebook is to prepare inputs required to execute the [NOAA Next Generation (NextGen) Water Resource Modeling Framework](https://github.com/NOAA-OWP/ngen). These inputs consist of the following components: \n",
    "\n",
    "- Hydrologic and hydrodynamic graphs based on the National Hydrologic Geospatial (Hydrofabric) data which includes catchments, nexus, and flowlines. \n",
    "- Model domain parameters represented as configuration files.\n",
    "- Meteorological forcing data.\n",
    "\n",
    "The Hydrofabric data can be accessed publicly through the AWS catalog. In this notebook, we use the **pre-release** version of the dataset, which represents the most recent version available on the Amazon S3 Bucket at the time of developing this notebook (https://nextgen-hydrofabric.s3.amazonaws.com/index.html#pre-release/). The configuration files encompass model default parameters, formulations, input and output paths, simulation time step, initial conditions, and other relevant settings. This example demonstrates the retrieval of hydrofabric data, followed by the extraction of necessary infromation for creating the parameter configuration file. These files are created for running Conceptual Functional Equivalent (CFE) model and Simple Logical Tautology Handler (SLoTH) in the NGEN framework. To prepare forcing data, run the *ngen-hydrofabric-subset.ipynb* Jupyter Notebook.\n",
    "\n",
    "**Software Requirements**:  \n",
    "\n",
    "The software and operating system versions used to develop this notebook are listed below. To avoid encountering issues related to version conflicts among Python packages, we recommend creating a new environment variable and installing the required packages specifically for this notebook.\n",
    "\n",
    "Tested on: MacOS Ventura 13.2.1  \n",
    "\n",
    "> boto3: 1.26.76  \n",
    "  dask-core: 2023.4.0  \n",
    "  fiona: 1.9.3  \n",
    "  fsspec: 2023.4.0  \n",
    "  geopandas: 0.12.2   \n",
    "  ipyleaflet: 0.17.2  \n",
    "  ipywidgets: 7.7.5   \n",
    "  matplotlib: 3.7.1   \n",
    "  netcdf4: 1.6.3   \n",
    "  numpy: 1.24.2  \n",
    "  pandas: 2.0.0  \n",
    "  requests: 2.28.2  \n",
    "  s3fs: 2023.4.0  \n",
    "  scipy: 1.10.1  \n",
    "  xarray: 2023.4.1\n",
    "  \n",
    "**Supplementary Code**\n",
    "\n",
    "This notebook relies on the following external scripts:  \n",
    "- `subset.py` - A script originally written by Nels Frazier to subset the NGen Hydrofabric\n",
    "\n",
    "<div class=\"alert alert-block alert-info\">\n",
    "<b>Acknowledgement:</b> This notebook is adapted from the code developed by CAUHSI team Tony Castronova and Irene Garousi-Nejad.\n",
    "</div>\n",
    "\n",
    "---"
   ]
  },
  {
   "cell_type": "code",
   "execution_count": 1,
   "id": "36689204-3953-4c5a-8338-81167df08186",
   "metadata": {
    "tags": []
   },
   "outputs": [],
   "source": [
    "!pip install watermark -q"
   ]
  },
  {
   "cell_type": "code",
   "execution_count": 1,
   "id": "c354f815-4e05-4a57-86d1-213a1536d801",
   "metadata": {
    "tags": []
   },
   "outputs": [],
   "source": [
    "# dealing with time and dates\n",
    "import time\n",
    "import datetime\n",
    "\n",
    "# data manipulation\n",
    "import pandas\n",
    "import subset\n",
    "\n",
    "# geospatial analysis\n",
    "import pyproj\n",
    "import geopandas\n",
    "import ipyleaflet\n",
    "import geopandas as gpd\n",
    "from pathlib import Path\n",
    "from sidecar import Sidecar\n",
    "from requests import Request\n",
    "from ipywidgets import Layout\n",
    "\n",
    "# progress bar\n",
    "from tqdm.notebook import tqdm\n",
    "\n",
    "# system\n",
    "import os\n",
    "\n",
    "# building realization\n",
    "import cfe_realization as r\n",
    "from pathlib import Path\n",
    "\n",
    "# ignore warnings\n",
    "import warnings\n",
    "warnings.filterwarnings(\"ignore\")\n",
    "\n",
    "%reload_ext watermark"
   ]
  },
  {
   "cell_type": "code",
   "execution_count": 2,
   "id": "a3e763b8-d361-4b4f-8005-04a2423d4f73",
   "metadata": {
    "tags": []
   },
   "outputs": [
    {
     "name": "stdout",
     "output_type": "stream",
     "text": [
      "Last updated: 2023-07-03T15:43:27.825656+00:00\n",
      "\n",
      "Python implementation: CPython\n",
      "Python version       : 3.9.16\n",
      "IPython version      : 8.14.0\n",
      "\n",
      "Compiler    : GCC 11.3.0\n",
      "OS          : Linux\n",
      "Release     : 5.15.107+\n",
      "Machine     : x86_64\n",
      "Processor   : x86_64\n",
      "CPU cores   : 14\n",
      "Architecture: 64bit\n",
      "\n"
     ]
    }
   ],
   "source": [
    "%watermark"
   ]
  },
  {
   "cell_type": "markdown",
   "id": "32efd6e0-a664-4f98-98ec-c96bf55e2944",
   "metadata": {},
   "source": [
    "## 1. Create a map and load the Hydrofabric VPU geometries"
   ]
  },
  {
   "cell_type": "markdown",
   "id": "c9c672fc-9635-460b-bef0-64338759f036",
   "metadata": {},
   "source": [
    "The following cell creates an interactive map that encompasses the Hydrofabric VPU (Vector Processing Units) geometries. These geometries have been prepared ahead of time and are stored in a HydroShare [resource](https://www.hydroshare.org/resource/35e8c6023c154b6298fcda280beda849/). HydroShare offers convinient access to [WMS (Web Map Service)](https://docs.geoserver.org/latest/en/user/services/wms/index.html) and [WFS (Web Feature Service)](https://docs.geoserver.org/latest/en/user/services/wfs/index.html) capabilities, allowing us to easily display these geometries on an interactive map. These services facilitate the visualization and exploration of the data in a user-friendly manner."
   ]
  },
  {
   "cell_type": "markdown",
   "id": "0c71b423-e70b-4132-a0ac-0dfe88a4a069",
   "metadata": {},
   "source": [
    "Create a dictionary containing the HydroShare resource ID's of the NextGen hydrofabric boundaries. The vector data for these geometries can be obtained from the following HydroShare resource:\n",
    "\n",
    "https://www.hydroshare.org/resource/3fbeb99e896b4d5f814aa512e8b87af5/"
   ]
  },
  {
   "cell_type": "code",
   "execution_count": 3,
   "id": "430e0708-73fa-4adb-a76e-cef0fdf13553",
   "metadata": {
    "tags": []
   },
   "outputs": [],
   "source": [
    "geometry_urls = {\n",
    "'all_regions':'35e8c6023c154b6298fcda280beda849',\n",
    "'16':  'e8ddee6a8a90484fa7a976458e79c0c3',\n",
    "'01':  '5f0e81c665314967a1e15e4ae672aaae',\n",
    "'02':  '131a6d6cc6514b558f968716783d7d47',\n",
    "'03N': '38c84132987243c2a49ffb9d178f3162',\n",
    "'03S': '5d9cdd0b6851460aaccd0c83557e4a6c',\n",
    "'03W': '5674050a194c41b8a61f000c94c27983',\n",
    "'04':  'd161033e07634d6199ae136a24807f22',\n",
    "'05':  '47113551c63b41daa53465aee6cb69e9',\n",
    "'06':  '1302f07176cd46e2ab70db730e601682',\n",
    "'07':  'b380393bebaf47e68afd98fb15f4ff10',\n",
    "'08':  '2391aadf1f4440499e7b61b4dcc41d94',\n",
    "'09':  '27670ef43fbf42be914e1fca7d41ce0b',\n",
    "'10L': 'b5028b1c8b5240f8b7deb3bcebc2f005',\n",
    "'10U': 'b6dca803df5a4a8c8120512ccdfe8ba9',\n",
    "'11':  '8e7a4c951c8241269e47ee461c1d9ef3',\n",
    "'12':  '8ea1c9e098f044318777bf283c1fc0ad',\n",
    "'13':  'b166308dffed4db39083393a894c3694',\n",
    "'15':  '68501dc3b6214aca8d92aaae75aee941',\n",
    "'16':  '1244ac2f25b0442cacece320424c6756',\n",
    "'17':  'da20b06af50d4adab080597ae4ae8c46',\n",
    "'18':  'ca2e56965245476fbcb258b7d2aec7ab',\n",
    "'14':  '2d78b60ad0cf469daced4c4aa37764ad',\n",
    "}"
   ]
  },
  {
   "cell_type": "code",
   "execution_count": 4,
   "id": "a8c882f2-484a-4d14-9bdc-f0c1f2a3152f",
   "metadata": {
    "tags": []
   },
   "outputs": [],
   "source": [
    "defaultLayout=Layout(width='960px', height='940px')\n",
    "\n",
    "map_center = (40.730610, -73.935242) # NYC, NY\n",
    "m = ipyleaflet.Map(\n",
    "    basemap=ipyleaflet.basemap_to_tiles(ipyleaflet.basemaps.OpenStreetMap.Mapnik, layout=defaultLayout),\n",
    "    center=map_center,\n",
    "    zoom=9,\n",
    "    scroll_wheel_zoom=True,\n",
    "    tap=False\n",
    "    )\n",
    "\n",
    "# add USGS Gages\n",
    "m.add_layer(\n",
    "    ipyleaflet.WMSLayer(\n",
    "        url='http://arcgis.cuahsi.org/arcgis/services/NHD/usgs_gages/MapServer/WmsServer',\n",
    "        layers='0',\n",
    "        transparent=True,\n",
    "        format='image/png',\n",
    "        min_zoom=8,\n",
    "        max_zoom=18,\n",
    "        )\n",
    ")\n",
    "\n",
    "# add the CONUS VPU boundaries\n",
    "hs_wms_res_all = f'HS-{geometry_urls[\"all_regions\"]}'\n",
    "m.add_layer(\n",
    "    ipyleaflet.WMSLayer(\n",
    "        url=f'https://geoserver.hydroshare.org/geoserver/{hs_wms_res_all}/wms?',\n",
    "        layers='vpu_boundaries',\n",
    "        format='image/png',\n",
    "        transparent=True,\n",
    "        opacity=0.5,\n",
    "        min_zoom=4,\n",
    "        max_zoom=8\n",
    "    )\n",
    ")\n",
    "\n",
    "# add the watershed VPU boundaries for each region.\n",
    "#for vpu in ['01', '02','03N','03S','03W', '04','05','06','07','08','09','10L','10U','11','12','13','14','15','16','17','18']:\n",
    "for vpu in ['02']:\n",
    "    hs_wms_res = f'HS-{geometry_urls[vpu]}'\n",
    "    m.add_layer(\n",
    "        ipyleaflet.WMSLayer(\n",
    "            url=f'https://geoserver.hydroshare.org/geoserver/{hs_wms_res}/wms?',\n",
    "            layers=f'{vpu}_boundaries',\n",
    "            format='image/png',\n",
    "            transparent=True,\n",
    "            opacity=0.5,\n",
    "            min_zoom=8,\n",
    "            max_zoom=18\n",
    "        )\n",
    "    )\n"
   ]
  },
  {
   "cell_type": "markdown",
   "id": "8731a993-6478-4887-899c-7f8009702c2b",
   "metadata": {},
   "source": [
    "## 2. Enable interactive geometry selection "
   ]
  },
  {
   "cell_type": "markdown",
   "id": "70d69c43-6c97-4e2d-8a9e-c24f1ee74174",
   "metadata": {},
   "source": [
    "Now, let's introduce an event handler that empowers us to highlight and store geometries that are clicked on the map. The following function utilizes the `WFS` endpoint to fetch the shape's boundary when a geometry is clicked on the map. This boundary will be drawn on the map, enabling us to visually identify the selected area.Additionally, we will store the information about the selected area for later use, particularly when we need to collect the upstream catchments associated with the selected area. "
   ]
  },
  {
   "cell_type": "code",
   "execution_count": 5,
   "id": "e9063177-175c-4608-b639-09fe1ef9d623",
   "metadata": {
    "tags": []
   },
   "outputs": [],
   "source": [
    "# select multiple geometry \n",
    "selected_dfs = [] # Initialize an empty list\n",
    "colors = ['red', 'green', 'blue', 'yellow', 'purple', 'orange', 'cyan', 'magenta'] # 8 colors \n",
    "\n",
    "def handle_map_interaction(**kwargs):\n",
    "    global selected_dfs # Use the list instead of a single DataFrame\n",
    "    \n",
    "    # ... (same as before)\n",
    "    \n",
    "    if kwargs.get('type') == 'click':\n",
    "        hs_wms_vpu_all = f'HS-{geometry_urls[\"all_regions\"]}'\n",
    "        coords = kwargs['coordinates'] \n",
    "        url = f'https://geoserver.hydroshare.org/geoserver/{hs_wms_vpu_all}/wfs?' \\\n",
    "               'service=wfs&version=2.0.0&' \\\n",
    "              f'request=getFeature&' \\\n",
    "               'srsName=EPSG:4269&' \\\n",
    "              f'bbox={coords[1]},{coords[0]},{coords[1]},{coords[0]},EPSG:4269&' \\\n",
    "              f'typeName=vpu_boundaries&' \\\n",
    "               'outputFormat=json&' \\\n",
    "               'PropertyName=VPU'\n",
    "        print(url)\n",
    "\n",
    "        q = Request('GET', url).prepare().url\n",
    "        df = gpd.read_file(q, format='json')\n",
    "        \n",
    "        # exit if a VPU is not found, i.e. a user doesn't click on the layer\n",
    "        if len(df) == 0: return\n",
    "        \n",
    "        VPU = df.VPU.values[0]\n",
    "        hs_wms_res = f'HS-{geometry_urls[VPU]}'\n",
    "        print(f'You selected VPU {VPU}')\n",
    "        url = f'https://geoserver.hydroshare.org/geoserver/{hs_wms_res}/wfs?' \\\n",
    "               'service=wfs&version=2.0.0&' \\\n",
    "              f'request=getFeature&' \\\n",
    "               'srsName=EPSG:4269&' \\\n",
    "              f'bbox={coords[1]},{coords[0]},{coords[1]},{coords[0]},EPSG:4269&' \\\n",
    "              f'typeName={VPU}_boundaries&' \\\n",
    "               'outputFormat=json&'\n",
    "\n",
    "        q = Request('GET', url).prepare().url\n",
    "        df = gpd.read_file(q, format='json')\n",
    "\n",
    "        # exit if a VPU is not found, i.e. a user doesn't click on the layer\n",
    "        if len(df) == 0: return\n",
    "    \n",
    "    # save vpu region, convert crs, and append selection to the list\n",
    "    df['VPU'] = VPU \n",
    "    df = df.to_crs('EPSG:4269')\n",
    "    selected_dfs.append(df) # Append instead of replacing\n",
    "    \n",
    "    # ... (same as before)\n",
    "    if type(m.layers[-1]) == ipyleaflet.WKTLayer:\n",
    "            m.remove_layer(m.layers[-1])\n",
    "    \n",
    "    # display the watershed boundary on the map\n",
    "    # iterate over all selected watersheds\n",
    "    for i, selected_df in enumerate(selected_dfs):\n",
    "        color = colors[i % len(colors)] # Cycle through the colors\n",
    "        m.add_layer(ipyleaflet.WKTLayer(wkt_string=selected_df.iloc[0].geometry.wkt, color=color, fill=True))\n",
    "\n",
    "m.on_interaction(handle_map_interaction)\n"
   ]
  },
  {
   "cell_type": "code",
   "execution_count": null,
   "id": "138fa840-f991-4a11-82e3-43a2b3663c59",
   "metadata": {},
   "outputs": [],
   "source": []
  },
  {
   "cell_type": "code",
   "execution_count": null,
   "id": "06cb3eeb-0f8e-456e-ad0b-d8530e4454d6",
   "metadata": {},
   "outputs": [],
   "source": []
  },
  {
   "cell_type": "code",
   "execution_count": 5,
   "id": "807970de-8af1-43d0-8511-c616e2b7eab5",
   "metadata": {
    "tags": []
   },
   "outputs": [],
   "source": [
    "selected_df = None\n",
    "\n",
    "def handle_map_interaction(**kwargs):\n",
    "    global selected_df\n",
    "    \n",
    "    if kwargs.get('type') == 'click':\n",
    "        hs_wms_vpu_all = f'HS-{geometry_urls[\"all_regions\"]}'\n",
    "        coords = kwargs['coordinates'] \n",
    "        url = f'https://geoserver.hydroshare.org/geoserver/{hs_wms_vpu_all}/wfs?' \\\n",
    "               'service=wfs&version=2.0.0&' \\\n",
    "              f'request=getFeature&' \\\n",
    "               'srsName=EPSG:4269&' \\\n",
    "              f'bbox={coords[1]},{coords[0]},{coords[1]},{coords[0]},EPSG:4269&' \\\n",
    "              f'typeName=vpu_boundaries&' \\\n",
    "               'outputFormat=json&' \\\n",
    "               'PropertyName=VPU'\n",
    "        print(url)\n",
    "\n",
    "        q = Request('GET', url).prepare().url\n",
    "        df = gpd.read_file(q, format='json')\n",
    "        \n",
    "        # exit if a VPU is not found, i.e. a user doesn't click on the layer\n",
    "        if len(df) == 0: return\n",
    "        \n",
    "        VPU = df.VPU.values[0]\n",
    "        hs_wms_res = f'HS-{geometry_urls[VPU]}'\n",
    "        print(f'You selected VPU {VPU}')\n",
    "        url = f'https://geoserver.hydroshare.org/geoserver/{hs_wms_res}/wfs?' \\\n",
    "               'service=wfs&version=2.0.0&' \\\n",
    "              f'request=getFeature&' \\\n",
    "               'srsName=EPSG:4269&' \\\n",
    "              f'bbox={coords[1]},{coords[0]},{coords[1]},{coords[0]},EPSG:4269&' \\\n",
    "              f'typeName={VPU}_boundaries&' \\\n",
    "               'outputFormat=json&'\n",
    "\n",
    "        q = Request('GET', url).prepare().url\n",
    "        df = gpd.read_file(q, format='json')\n",
    "\n",
    "        # exit if a VPU is not found, i.e. a user doesn't click on the layer\n",
    "        if len(df) == 0: return\n",
    "    \n",
    "        # save vpu region, convert crs, and save selection for later\n",
    "        df['VPU'] = VPU \n",
    "        df = df.to_crs('EPSG:4269')\n",
    "        selected_df = df\n",
    "        \n",
    "        if type(m.layers[-1]) == ipyleaflet.WKTLayer:\n",
    "            m.remove_layer(m.layers[-1])\n",
    "            \n",
    "        # display the watershed boundary on the map\n",
    "        m.add_layer(ipyleaflet.WKTLayer(wkt_string=df.iloc[0].geometry.wkt))\n",
    "        \n",
    "m.on_interaction(handle_map_interaction)"
   ]
  },
  {
   "cell_type": "markdown",
   "id": "091faa22-689e-4e2f-8e3c-02244e530d2e",
   "metadata": {},
   "source": [
    "Display the map"
   ]
  },
  {
   "cell_type": "code",
   "execution_count": 6,
   "id": "c1b6fa44-1657-42c5-9fa4-b550eede388f",
   "metadata": {
    "tags": []
   },
   "outputs": [],
   "source": [
    "sc = Sidecar(title='NGEN HydroFabric Map')\n",
    "with sc:\n",
    "    display(m)"
   ]
  },
  {
   "cell_type": "markdown",
   "id": "d1b8729c-fd1e-4206-83b0-1fc0d1fbe0c8",
   "metadata": {},
   "source": [
    "Select the VPU of interest. Run the following code cell to print the `id` of the selected area. "
   ]
  },
  {
   "cell_type": "code",
   "execution_count": 7,
   "id": "2ac5a477-93df-48d3-b3a6-f9b09d606665",
   "metadata": {
    "tags": []
   },
   "outputs": [
    {
     "data": {
      "text/plain": [
       "[    divide_id            toid      type ds_id   areasqkm         id  \\\n",
       " 0  cat-694725  tnx-1000003007  terminal        89.274602  wb-694725   \n",
       " \n",
       "     lengthkm  tot_draina  has_flowli  \\\n",
       " 0  12.449846  121.193106           1   \n",
       " \n",
       "                                             geometry VPU  \n",
       " 0  MULTIPOLYGON (((-73.96513 40.67130, -73.96475 ...  02  ,\n",
       "     divide_id            toid      type ds_id   areasqkm         id  lengthkm  \\\n",
       " 0  cat-694856  tnx-1000002459  terminal        34.734145  wb-694856  6.125801   \n",
       " \n",
       "      tot_draina  has_flowli  \\\n",
       " 0  34622.437669           1   \n",
       " \n",
       "                                             geometry VPU  \n",
       " 0  MULTIPOLYGON (((-74.01356 40.70434, -74.01415 ...  02  ,\n",
       "     divide_id        toid     type ds_id  areasqkm         id  lengthkm  \\\n",
       " 0  cat-694855  nex-694856  network        8.872208  wb-694855  2.683831   \n",
       " \n",
       "      tot_draina  has_flowli  \\\n",
       " 0  34587.703524           1   \n",
       " \n",
       "                                             geometry VPU  \n",
       " 0  MULTIPOLYGON (((-73.98166 40.75183, -73.98273 ...  02  ,\n",
       "     divide_id        toid     type ds_id  areasqkm         id  lengthkm  \\\n",
       " 0  cat-694724  nex-694725  network        9.534596  wb-694724   2.66821   \n",
       " \n",
       "    tot_draina  has_flowli                                           geometry  \\\n",
       " 0   31.918503           1  MULTIPOLYGON (((-73.96605 40.78844, -73.96771 ...   \n",
       " \n",
       "   VPU  \n",
       " 0  02  ,\n",
       "     divide_id        toid     type ds_id   areasqkm         id  lengthkm  \\\n",
       " 0  cat-694854  nex-694855  network        32.326199  wb-694854  9.155099   \n",
       " \n",
       "      tot_draina  has_flowli  \\\n",
       " 0  34578.831316           1   \n",
       " \n",
       "                                             geometry VPU  \n",
       " 0  MULTIPOLYGON (((-74.02627 40.77263, -74.02595 ...  02  ,\n",
       "     divide_id        toid     type ds_id   areasqkm         id  lengthkm  \\\n",
       " 0  cat-694723  nex-694724  network        12.438456  wb-694723  5.483147   \n",
       " \n",
       "    tot_draina  has_flowli                                           geometry  \\\n",
       " 0   22.383907           1  MULTIPOLYGON (((-73.93843 40.84550, -73.93670 ...   \n",
       " \n",
       "   VPU  \n",
       " 0  02  ,\n",
       "     divide_id        toid     type ds_id   areasqkm         id  lengthkm  \\\n",
       " 0  cat-698891  nex-698887  network        11.870088  wb-698891  1.723643   \n",
       " \n",
       "    tot_draina  has_flowli                                           geometry  \\\n",
       " 0   11.870088           1  MULTIPOLYGON (((-73.92334 40.79769, -73.92414 ...   \n",
       " \n",
       "   VPU  \n",
       " 0  02  ,\n",
       "     divide_id        toid     type ds_id  areasqkm         id  lengthkm  \\\n",
       " 0  cat-694722  nex-694723  network        9.945451  wb-694722  5.483147   \n",
       " \n",
       "    tot_draina  has_flowli                                           geometry  \\\n",
       " 0    9.945451           1  MULTIPOLYGON (((-73.93765 40.85610, -73.93679 ...   \n",
       " \n",
       "   VPU  \n",
       " 0  02  ]"
      ]
     },
     "execution_count": 7,
     "metadata": {},
     "output_type": "execute_result"
    }
   ],
   "source": [
    "# selected_df.id\n",
    "selected_dfs"
   ]
  },
  {
   "cell_type": "markdown",
   "id": "b5d3093d-7d14-41a5-87d8-2d345ef6c963",
   "metadata": {},
   "source": [
    "## 3. Subset hydrofabric data for the selected area"
   ]
  },
  {
   "cell_type": "markdown",
   "id": "0e63fd4e-b755-4648-89db-12bf5f063614",
   "metadata": {},
   "source": [
    "The following code passes the `id` and `VPU` values of the geometries selected on the map (`selected_df`) to the hydrofabric subsetting script (`subset.py`). The subsetting algorithm implemented in the code adopts a reverse tracing technique called `subset_upstream`. It systematically identifies and selects all the upstream divides, catchments, nexuses, and flowlines starting from the most downstream nexus linked to the chosen geometries."
   ]
  },
  {
   "cell_type": "code",
   "execution_count": 7,
   "id": "d5e766e3-d72d-4a4e-a34d-4738737ea170",
   "metadata": {
    "tags": []
   },
   "outputs": [
    {
     "data": {
      "application/vnd.jupyter.widget-view+json": {
       "model_id": "81e894958a7b48db86537b2b32a19c6f",
       "version_major": 2,
       "version_minor": 0
      },
      "text/plain": [
       "  0%|          | 0/8 [00:00<?, ?it/s]"
      ]
     },
     "metadata": {},
     "output_type": "display_data"
    },
    {
     "name": "stdout",
     "output_type": "stream",
     "text": [
      "--------------------------------------------------\n",
      "Processing VPU ['02'], wb-694856 \n",
      "s3://nextgen-hydrofabric/pre-release/nextgen_02.gpkg\n",
      "Building Graph Network\n"
     ]
    },
    {
     "name": "stderr",
     "output_type": "stream",
     "text": [
      "WARNING:fiona._env:File /vsimem/b704dbffa63742b3b5e4d17673476d09 has GPKG application_id, but non conformant file extension\n",
      "WARNING:fiona._env:File /vsimem/90dc159a71f54af092ab4dc8548fa583 has GPKG application_id, but non conformant file extension\n",
      "WARNING:fiona._env:File /vsimem/01b25078fed54fa29af2001927a393a1 has GPKG application_id, but non conformant file extension\n",
      "WARNING:fiona._env:File /vsimem/7ae9b4b83e4841e1bfce113ff9b76067 has GPKG application_id, but non conformant file extension\n",
      "WARNING:fiona._env:File /vsimem/340f199c3b634c879df0c139d795e289 has GPKG application_id, but non conformant file extension\n"
     ]
    },
    {
     "name": "stdout",
     "output_type": "stream",
     "text": [
      "Output files located at: wb-694856\n",
      "Completed in 123.85935473442078 seconds\n",
      "--------------------------------------------------\n",
      "--------------------------------------------------\n",
      "Processing VPU ['02'], wb-694725 \n",
      "s3://nextgen-hydrofabric/pre-release/nextgen_02.gpkg\n"
     ]
    },
    {
     "name": "stderr",
     "output_type": "stream",
     "text": [
      "WARNING:fiona._env:File /vsimem/32e694aac11149978bec96f2299999b5/32e694aac11149978bec96f2299999b5 has GPKG application_id, but non conformant file extension\n",
      "WARNING:fiona._env:File /vsimem/ecc32818f6d14fc19b3e7ed4e732712c has GPKG application_id, but non conformant file extension\n",
      "WARNING:fiona._env:File /vsimem/61cfbf6ee02a4d68b1f5853db25ebd49 has GPKG application_id, but non conformant file extension\n",
      "WARNING:fiona._env:File /vsimem/6264eb2eec1e48399645f80d95d68f8e has GPKG application_id, but non conformant file extension\n"
     ]
    },
    {
     "name": "stdout",
     "output_type": "stream",
     "text": [
      "Building Graph Network\n"
     ]
    },
    {
     "name": "stderr",
     "output_type": "stream",
     "text": [
      "WARNING:fiona._env:File /vsimem/181ae813f7a34a05b259160c7a7ecca2 has GPKG application_id, but non conformant file extension\n",
      "WARNING:fiona._env:File /vsimem/9f2f04501d1b467d8f17acd40754b4ef has GPKG application_id, but non conformant file extension\n",
      "WARNING:fiona._env:File /vsimem/bdc9ccf999fb4be89b1a87add8cf1f0a has GPKG application_id, but non conformant file extension\n",
      "WARNING:fiona._env:File /vsimem/bfa4962a3af34893858225e7fc282575 has GPKG application_id, but non conformant file extension\n",
      "WARNING:fiona._env:File /vsimem/23ab71585df2406dab686bc5c5cd8c17 has GPKG application_id, but non conformant file extension\n"
     ]
    },
    {
     "name": "stdout",
     "output_type": "stream",
     "text": [
      "Output files located at: wb-694725\n",
      "Completed in 99.02625489234924 seconds\n",
      "--------------------------------------------------\n",
      "--------------------------------------------------\n",
      "Processing VPU ['02'], wb-694855 \n",
      "s3://nextgen-hydrofabric/pre-release/nextgen_02.gpkg\n"
     ]
    },
    {
     "name": "stderr",
     "output_type": "stream",
     "text": [
      "WARNING:fiona._env:File /vsimem/25111e1eb78941b2b36571830b116fcb/25111e1eb78941b2b36571830b116fcb has GPKG application_id, but non conformant file extension\n",
      "WARNING:fiona._env:File /vsimem/31a640bc402445f1a4320755bb912136 has GPKG application_id, but non conformant file extension\n",
      "WARNING:fiona._env:File /vsimem/c8c7e83b864f4cf89494b1c9f04df2f0 has GPKG application_id, but non conformant file extension\n",
      "WARNING:fiona._env:File /vsimem/c498d92858f240f7bdee2c0f4d1058d0 has GPKG application_id, but non conformant file extension\n"
     ]
    },
    {
     "name": "stdout",
     "output_type": "stream",
     "text": [
      "Building Graph Network\n"
     ]
    },
    {
     "name": "stderr",
     "output_type": "stream",
     "text": [
      "WARNING:fiona._env:File /vsimem/a576728be3eb416ea534d5ece5d4c326 has GPKG application_id, but non conformant file extension\n",
      "WARNING:fiona._env:File /vsimem/b589d7a0d2a64b8797a5c609de0b4fc9 has GPKG application_id, but non conformant file extension\n",
      "WARNING:fiona._env:File /vsimem/bd0afa013827499a9aeb9eb99c41193c has GPKG application_id, but non conformant file extension\n",
      "WARNING:fiona._env:File /vsimem/78800043bb1240f3aab6bbd5dba4dfee has GPKG application_id, but non conformant file extension\n",
      "WARNING:fiona._env:File /vsimem/053fe2615b16445f9d1103f156808954 has GPKG application_id, but non conformant file extension\n"
     ]
    },
    {
     "name": "stdout",
     "output_type": "stream",
     "text": [
      "Output files located at: wb-694855\n",
      "Completed in 118.6002905368805 seconds\n",
      "--------------------------------------------------\n",
      "--------------------------------------------------\n",
      "Processing VPU ['02'], wb-694724 \n",
      "s3://nextgen-hydrofabric/pre-release/nextgen_02.gpkg\n"
     ]
    },
    {
     "name": "stderr",
     "output_type": "stream",
     "text": [
      "WARNING:fiona._env:File /vsimem/84d7ec6ac96b4191afe5e118352f7624/84d7ec6ac96b4191afe5e118352f7624 has GPKG application_id, but non conformant file extension\n",
      "WARNING:fiona._env:File /vsimem/451cd605e34a4c0a840119f698b538cb has GPKG application_id, but non conformant file extension\n",
      "WARNING:fiona._env:File /vsimem/b9aedfc49c1a4c809cc79e4b58a12d70 has GPKG application_id, but non conformant file extension\n",
      "WARNING:fiona._env:File /vsimem/21c0719dd7b04ad6a0fde12ee6802e32 has GPKG application_id, but non conformant file extension\n"
     ]
    },
    {
     "name": "stdout",
     "output_type": "stream",
     "text": [
      "Building Graph Network\n"
     ]
    },
    {
     "name": "stderr",
     "output_type": "stream",
     "text": [
      "WARNING:fiona._env:File /vsimem/8987f6a2eb1348e789654cd643747b8e has GPKG application_id, but non conformant file extension\n",
      "WARNING:fiona._env:File /vsimem/6567eef7a4b94f9ba7ee9a9f2792dec7 has GPKG application_id, but non conformant file extension\n",
      "WARNING:fiona._env:File /vsimem/be0403aaf5004170985c6d7f104262bd has GPKG application_id, but non conformant file extension\n",
      "WARNING:fiona._env:File /vsimem/e89d3073070841e5b18262e65260d4e1 has GPKG application_id, but non conformant file extension\n",
      "WARNING:fiona._env:File /vsimem/c19ae8775ff043638376465ed56c6714 has GPKG application_id, but non conformant file extension\n"
     ]
    },
    {
     "name": "stdout",
     "output_type": "stream",
     "text": [
      "Output files located at: wb-694724\n",
      "Completed in 99.74863409996033 seconds\n",
      "--------------------------------------------------\n",
      "--------------------------------------------------\n",
      "Processing VPU ['02'], wb-694854 \n",
      "s3://nextgen-hydrofabric/pre-release/nextgen_02.gpkg\n"
     ]
    },
    {
     "name": "stderr",
     "output_type": "stream",
     "text": [
      "WARNING:fiona._env:File /vsimem/f9983ad384114ac090113b0ac21f4d79/f9983ad384114ac090113b0ac21f4d79 has GPKG application_id, but non conformant file extension\n",
      "WARNING:fiona._env:File /vsimem/68736b0a145a4f4baadbddc79ef67560 has GPKG application_id, but non conformant file extension\n",
      "WARNING:fiona._env:File /vsimem/cc184ca74d1b419296e41238f9c6ff4b has GPKG application_id, but non conformant file extension\n",
      "WARNING:fiona._env:File /vsimem/c7da9d8d3c234625a7eff16235d988ca has GPKG application_id, but non conformant file extension\n"
     ]
    },
    {
     "name": "stdout",
     "output_type": "stream",
     "text": [
      "Building Graph Network\n"
     ]
    },
    {
     "name": "stderr",
     "output_type": "stream",
     "text": [
      "WARNING:fiona._env:File /vsimem/af3dc0d577774cafb8d68503bccf660a has GPKG application_id, but non conformant file extension\n",
      "WARNING:fiona._env:File /vsimem/0dc69674c8d844fca34282b000c95d05 has GPKG application_id, but non conformant file extension\n",
      "WARNING:fiona._env:File /vsimem/44965fea6adb4c67b942d71670ab0d8f has GPKG application_id, but non conformant file extension\n",
      "WARNING:fiona._env:File /vsimem/805c877cc9a049ce96b4d68e1acee40f has GPKG application_id, but non conformant file extension\n",
      "WARNING:fiona._env:File /vsimem/3306e8a9ad794d3c90b705fc4c39029d has GPKG application_id, but non conformant file extension\n"
     ]
    },
    {
     "name": "stdout",
     "output_type": "stream",
     "text": [
      "Output files located at: wb-694854\n",
      "Completed in 116.47092628479004 seconds\n",
      "--------------------------------------------------\n",
      "--------------------------------------------------\n",
      "Processing VPU ['02'], wb-694723 \n",
      "s3://nextgen-hydrofabric/pre-release/nextgen_02.gpkg\n"
     ]
    },
    {
     "name": "stderr",
     "output_type": "stream",
     "text": [
      "WARNING:fiona._env:File /vsimem/d53ce3a502ae410598722fe54532b110/d53ce3a502ae410598722fe54532b110 has GPKG application_id, but non conformant file extension\n",
      "WARNING:fiona._env:File /vsimem/67c193ca57664f168c09b211dde93b6b has GPKG application_id, but non conformant file extension\n",
      "WARNING:fiona._env:File /vsimem/3f7ffd2993ca4de6bff31146d99ff8ca has GPKG application_id, but non conformant file extension\n",
      "WARNING:fiona._env:File /vsimem/56a59057cd364ae99c5322fcaaac853f has GPKG application_id, but non conformant file extension\n"
     ]
    },
    {
     "name": "stdout",
     "output_type": "stream",
     "text": [
      "Building Graph Network\n"
     ]
    },
    {
     "name": "stderr",
     "output_type": "stream",
     "text": [
      "WARNING:fiona._env:File /vsimem/94d0ca7e42464d36be1d2669cf96e6df has GPKG application_id, but non conformant file extension\n",
      "WARNING:fiona._env:File /vsimem/e3e542d58bde4e12927f1cf4d9718313 has GPKG application_id, but non conformant file extension\n",
      "WARNING:fiona._env:File /vsimem/48bcaa18d0aa4a479737e59905417450 has GPKG application_id, but non conformant file extension\n",
      "WARNING:fiona._env:File /vsimem/afeb3a60be6b4b21b606bb4b3f6bf9d1 has GPKG application_id, but non conformant file extension\n",
      "WARNING:fiona._env:File /vsimem/0cc5a4da565a41089e4b4c399c5eee97 has GPKG application_id, but non conformant file extension\n"
     ]
    },
    {
     "name": "stdout",
     "output_type": "stream",
     "text": [
      "Output files located at: wb-694723\n",
      "Completed in 97.60097169876099 seconds\n",
      "--------------------------------------------------\n",
      "--------------------------------------------------\n",
      "Processing VPU ['02'], wb-698891 \n",
      "s3://nextgen-hydrofabric/pre-release/nextgen_02.gpkg\n"
     ]
    },
    {
     "name": "stderr",
     "output_type": "stream",
     "text": [
      "WARNING:fiona._env:File /vsimem/17dab1bd2300432f93e7510cfe731132/17dab1bd2300432f93e7510cfe731132 has GPKG application_id, but non conformant file extension\n",
      "WARNING:fiona._env:File /vsimem/5fc75feffac04ba99bac9bb5431f66ec has GPKG application_id, but non conformant file extension\n",
      "WARNING:fiona._env:File /vsimem/5b176a6831ad4f118ee5e9775729ff57 has GPKG application_id, but non conformant file extension\n",
      "WARNING:fiona._env:File /vsimem/e87878a815154287b8b67593acf2d3cc has GPKG application_id, but non conformant file extension\n"
     ]
    },
    {
     "name": "stdout",
     "output_type": "stream",
     "text": [
      "Building Graph Network\n"
     ]
    },
    {
     "name": "stderr",
     "output_type": "stream",
     "text": [
      "WARNING:fiona._env:File /vsimem/3576262b0a104083b3c1e17f1b456d4d has GPKG application_id, but non conformant file extension\n",
      "WARNING:fiona._env:File /vsimem/18c07ab67fd24068a55dab8b8ff16011 has GPKG application_id, but non conformant file extension\n",
      "WARNING:fiona._env:File /vsimem/351ddce705a2459eb6210cd5820d5ae7 has GPKG application_id, but non conformant file extension\n",
      "WARNING:fiona._env:File /vsimem/b117d8c501fd47c88576a1b3da9229aa has GPKG application_id, but non conformant file extension\n",
      "WARNING:fiona._env:File /vsimem/faf16e209c434077bf55d4584d503165 has GPKG application_id, but non conformant file extension\n"
     ]
    },
    {
     "name": "stdout",
     "output_type": "stream",
     "text": [
      "Output files located at: wb-698891\n",
      "Completed in 97.58527541160583 seconds\n",
      "--------------------------------------------------\n",
      "--------------------------------------------------\n",
      "Processing VPU ['02'], wb-694722 \n",
      "s3://nextgen-hydrofabric/pre-release/nextgen_02.gpkg\n"
     ]
    },
    {
     "name": "stderr",
     "output_type": "stream",
     "text": [
      "WARNING:fiona._env:File /vsimem/2c08a93596f546daaec715314a4f7923/2c08a93596f546daaec715314a4f7923 has GPKG application_id, but non conformant file extension\n",
      "WARNING:fiona._env:File /vsimem/e52e48d64bd7471691b4ca39721fa13f has GPKG application_id, but non conformant file extension\n",
      "WARNING:fiona._env:File /vsimem/c5fd208565cd491aa31870068ebfc325 has GPKG application_id, but non conformant file extension\n",
      "WARNING:fiona._env:File /vsimem/808eb81d0d0e40809e891e524d84339d has GPKG application_id, but non conformant file extension\n"
     ]
    },
    {
     "name": "stdout",
     "output_type": "stream",
     "text": [
      "Building Graph Network\n"
     ]
    },
    {
     "name": "stderr",
     "output_type": "stream",
     "text": [
      "WARNING:fiona._env:File /vsimem/24b2b76e2e2c4efca6036f17629f0550 has GPKG application_id, but non conformant file extension\n",
      "WARNING:fiona._env:File /vsimem/27c0db80e4ab46e8b5ba25bf165dd8ac has GPKG application_id, but non conformant file extension\n",
      "WARNING:fiona._env:File /vsimem/65dbfba8ffd24f7480edca3f4e2c1a1d has GPKG application_id, but non conformant file extension\n",
      "WARNING:fiona._env:File /vsimem/5e902c87039c4a6cb2d6c44f89736d30 has GPKG application_id, but non conformant file extension\n",
      "WARNING:fiona._env:File /vsimem/bbdfeb96ca4946f09be99922fda7f1af has GPKG application_id, but non conformant file extension\n"
     ]
    },
    {
     "name": "stdout",
     "output_type": "stream",
     "text": [
      "Output files located at: wb-694722\n",
      "Completed in 99.62174010276794 seconds\n",
      "--------------------------------------------------\n"
     ]
    }
   ],
   "source": [
    "ids_list = ['wb-694856', 'wb-694725', 'wb-694855', 'wb-694724', 'wb-694854', 'wb-694723', 'wb-698891', 'wb-694722']\n",
    "\n",
    "vpus = ['02'] # list(selected_df.VPU.values) #['16'] \n",
    "\n",
    "output_files = []\n",
    "for i in tqdm(range(0, len(ids_list))):    \n",
    "    print(50*'-'+f'\\nProcessing VPU {vpus}, {ids_list[i]} ')\n",
    "    st = time.time()\n",
    "    # build the hydrofabric_url\n",
    "    # the complete dataset can be found at: https://nextgen-hydrofabric.s3.amazonaws.com/index.html#pre-release/\n",
    "    hydrofabric_url = f's3://nextgen-hydrofabric/pre-release/nextgen_02.gpkg' #{vpus[i]} in place of 02\n",
    "    subset.subset_upstream(hydrofabric_url, ids_list[i])\n",
    "    \n",
    "    # move these files into a subdir to keep things orderly\n",
    "    counter = 1\n",
    "    outpath = ids_list[i]\n",
    "    while os.path.exists(outpath):\n",
    "        outpath = ids_list[i] + \"_\" + str(counter)\n",
    "        counter += 1\n",
    "    os.mkdir(outpath)\n",
    "    for subdir in ['config', 'forcings', 'outputs']:\n",
    "        os.mkdir(os.path.join(outpath, subdir))\n",
    "\n",
    "    for f in [f'{ids_list[i]}_upstream_subset.gpkg',\n",
    "              'catchments.geojson',\n",
    "              'crosswalk.json',\n",
    "              'flowpath_edge_list.json',\n",
    "              'flowpaths.geojson',\n",
    "              'nexus.geojson',\n",
    "              'cfe_noahowp_attributes.csv']:\n",
    "        os.rename(f, os.path.join(outpath, 'config', f))\n",
    "        \n",
    "    # output_files.append(f'{ids[i]}_upstream_subset.gpkg')\n",
    "    print(f'Output files located at: {outpath}')\n",
    "    print(f'Completed in {time.time() - st} seconds\\n'+50*'-')    \n",
    "\n",
    "# outdir = Path(outpath)"
   ]
  },
  {
   "cell_type": "code",
   "execution_count": 12,
   "id": "28af8c32-011d-4981-a614-1d5f62de424c",
   "metadata": {
    "tags": []
   },
   "outputs": [],
   "source": [
    "# ids_list = 'wb-694856', 'wb-694725', 'wb-694855', 'wb-694724', 'wb-694854', 'wb-694723', 'wb-698891', 'wb-694722'\n",
    "\n",
    "# ids = list(ids_list) # selected_df.id.values, you can also put id manually ['wb-2917533'] \n",
    "# vpus = ['02'] # list(selected_df.VPU.values) #['16'] \n",
    "\n",
    "# output_files = []\n",
    "# for i in tqdm(range(0, len(ids))):    \n",
    "#     print(50*'-'+f'\\nProcessing VPU {vpus}, {ids[i]} ')\n",
    "#     st = time.time()\n",
    "#     # build the hydrofabric_url\n",
    "#     # the complete dataset can be found at: https://nextgen-hydrofabric.s3.amazonaws.com/index.html#pre-release/\n",
    "#     hydrofabric_url = f's3://nextgen-hydrofabric/pre-release/nextgen_02.gpkg' #{vpus[i]} in place of 02\n",
    "#     subset.subset_upstream(hydrofabric_url, ids[i])\n",
    "    \n",
    "#     # move these files into a subdir to keep things orderly\n",
    "#     counter = 1\n",
    "#     outpath = ids[i]\n",
    "#     while os.path.exists(outpath):\n",
    "#         outpath = ids[i] + \"_\" + str(counter)\n",
    "#         counter += 1\n",
    "#     os.mkdir(outpath)\n",
    "#     for subdir in ['config', 'forcings', 'outputs']:\n",
    "#         os.mkdir(os.path.join(outpath, subdir))\n",
    "\n",
    "#     for f in [f'{ids[i]}_upstream_subset.gpkg',\n",
    "#               'catchments.geojson',\n",
    "#               'crosswalk.json',\n",
    "#               'flowpath_edge_list.json',\n",
    "#               'flowpaths.geojson',\n",
    "#               'nexus.geojson',\n",
    "#               'cfe_noahowp_attributes.csv']:\n",
    "#         os.rename(f, os.path.join(outpath, 'config', f))\n",
    "        \n",
    "#     # output_files.append(f'{ids[i]}_upstream_subset.gpkg')\n",
    "#     print(f'Output files located at: {outpath}')\n",
    "#     print(f'Completed in {time.time() - st} seconds\\n'+50*'-')    \n",
    "\n",
    "# outdir = Path(outpath)"
   ]
  },
  {
   "cell_type": "markdown",
   "id": "e6410e7b-f225-406d-adb9-c7cefdc07171",
   "metadata": {},
   "source": [
    "## 4. Add the Subset Hydrofabric to the map\n"
   ]
  },
  {
   "cell_type": "markdown",
   "id": "3f7e1ec5-666f-4e65-ad69-8d470d918eaf",
   "metadata": {},
   "source": [
    "Execute the following code cell to add the subset catchments and rivers from the geopackage file  as visual overlays on the map. In this section, we begin by reading the shapefiles stored within the geopackage file. We then proceed to transform the projection system of these shapes into Web Mercator, the desired coordinate reference system for our map. Next, we create a WKTLayer for each catchment and river in the subset shapefiles. A WKTLayer enables us to represent the shape's geometry using a WKT string, which provides a concise description of its spatial properties."
   ]
  },
  {
   "cell_type": "code",
   "execution_count": 11,
   "id": "d2acb76f-0414-4293-a815-143a84c7cbd5",
   "metadata": {
    "tags": []
   },
   "outputs": [
    {
     "data": {
      "text/plain": [
       "'/home/jovyan/data/cuahsi-workshop/notebooks/ngen'"
      ]
     },
     "execution_count": 11,
     "metadata": {},
     "output_type": "execute_result"
    }
   ],
   "source": [
    "os.getcwd()"
   ]
  },
  {
   "cell_type": "code",
   "execution_count": null,
   "id": "f8c041a2-a5c2-4c45-b19a-9fbae82e9480",
   "metadata": {
    "tags": []
   },
   "outputs": [
    {
     "data": {
      "application/vnd.jupyter.widget-view+json": {
       "model_id": "92f330f72448415890598ef32057cff7",
       "version_major": 2,
       "version_minor": 0
      },
      "text/plain": [
       "  0%|          | 0/8 [00:00<?, ?it/s]"
      ]
     },
     "metadata": {},
     "output_type": "display_data"
    },
    {
     "name": "stdout",
     "output_type": "stream",
     "text": [
      "wb-694856\n",
      "wb-694725\n",
      "wb-694855\n",
      "wb-694724\n",
      "wb-694854\n",
      "wb-694723\n",
      "wb-698891\n",
      "wb-694722\n"
     ]
    },
    {
     "data": {
      "application/vnd.jupyter.widget-view+json": {
       "model_id": "470830cb769945c6a1f3966ad25e9940",
       "version_major": 2,
       "version_minor": 0
      },
      "text/plain": [
       "  0%|          | 0/8 [00:00<?, ?it/s]"
      ]
     },
     "metadata": {},
     "output_type": "display_data"
    }
   ],
   "source": [
    "ids_list = ['wb-694856', 'wb-694725', 'wb-694855', 'wb-694724', 'wb-694854', 'wb-694723', 'wb-698891', 'wb-694722']\n",
    "\n",
    "# define the target projection as EPSG:4269 - Web Mercator\n",
    "# this is the default crs for leaflet\n",
    "target_crs = pyproj.Proj('4269')\n",
    "\n",
    "# Dictionaries to store catchments and rivers data for each id\n",
    "catchments_dict = {}\n",
    "rivers_dict = {}\n",
    "\n",
    "for i in tqdm(ids_list):\n",
    "    # outdir\n",
    "    out_dir = Path(i)\n",
    "    \n",
    "    print(out_dir)\n",
    "\n",
    "    # read the shapes\n",
    "    catchments = geopandas.read_file(f'{out_dir}/config/{i}_upstream_subset.gpkg',\n",
    "                              layer='divides')\n",
    "    rivers = geopandas.read_file(f'{out_dir}/config/{i}_upstream_subset.gpkg',\n",
    "                              layer='flowpaths')\n",
    "\n",
    "    # transform the shapefile into EPSG:4269\n",
    "    catchments = catchments.to_crs(target_crs.crs)\n",
    "    rivers = rivers.to_crs(target_crs.crs)\n",
    "\n",
    "    # Store the catchments and rivers data for this id in the dictionaries\n",
    "    catchments_dict[i] = catchments\n",
    "    rivers_dict[i] = rivers\n",
    "\n",
    "# Now iterate over the stored data and add to the map\n",
    "for i in tqdm(ids_list):\n",
    "    # add the catchments to the map\n",
    "    for idx, shape in catchments_dict[i].iterrows():\n",
    "        wkt = ipyleaflet.WKTLayer(wkt_string=shape.geometry.wkt)\n",
    "        wkt.style = {'color': 'green'}\n",
    "        m.add_layer(wkt)\n",
    "\n",
    "    # add the rivers to the map\n",
    "    for idx, shape in rivers_dict[i].iterrows():\n",
    "        wkt = ipyleaflet.WKTLayer(wkt_string=shape.geometry.wkt)\n",
    "        wkt.style = {'color': 'blue'}\n",
    "        m.add_layer(wkt)\n"
   ]
  },
  {
   "cell_type": "code",
   "execution_count": 40,
   "id": "c042621b-5525-41cf-97ee-2c5bfe886921",
   "metadata": {
    "tags": []
   },
   "outputs": [],
   "source": [
    "# # read the shapes\n",
    "# catchments = geopandas.read_file(f'{outdir}/config/{ids[0]}_upstream_subset.gpkg', # ids = selected_df.id[0]\n",
    "#                           layer='divides')\n",
    "# rivers = geopandas.read_file(f'{outdir}/config/{ids[0]}_upstream_subset.gpkg',\n",
    "#                           layer='flowpaths')\n",
    "\n",
    "# # define the target projection as EPSG:4269 - Web Mercator\n",
    "# # this is the default crs for leaflet\n",
    "# target_crs = pyproj.Proj('4269')\n",
    "\n",
    "# # transform the shapefile into EPSG:4269\n",
    "# catchments = catchments.to_crs(target_crs.crs)\n",
    "# rivers = rivers.to_crs(target_crs.crs)\n",
    "\n",
    "# # add the catchments to the map\n",
    "# for idx, shape in catchments.iterrows():\n",
    "#     wkt = ipyleaflet.WKTLayer(wkt_string=shape.geometry.wkt)\n",
    "#     wkt.style = {'color': 'green'}\n",
    "#     m.add_layer(wkt)\n",
    "    \n",
    "# # add the rivers to the map\n",
    "# for idx, shape in rivers.iterrows():\n",
    "#     wkt = ipyleaflet.WKTLayer(wkt_string=shape.geometry.wkt)\n",
    "#     wkt.style = {'color': 'blue'}\n",
    "#     m.add_layer(wkt)"
   ]
  },
  {
   "cell_type": "markdown",
   "id": "7c3118b1-7328-4dcb-ac3d-921cd8a8fa81",
   "metadata": {},
   "source": [
    "## 5. Build Realization "
   ]
  },
  {
   "cell_type": "code",
   "execution_count": 10,
   "id": "29b03e78-d565-4822-a280-71f2df124739",
   "metadata": {
    "tags": []
   },
   "outputs": [],
   "source": [
    "# for directory in ids_list:\n",
    "#     # select directory\n",
    "#     out_dir = Path(directory)\n",
    "    \n",
    "#     cfe_atts_path = out_dir.resolve()/'config/cfe_noahowp_attributes.csv'"
   ]
  },
  {
   "cell_type": "code",
   "execution_count": 29,
   "id": "3e5541db-1181-464d-8b49-8df0e84ece10",
   "metadata": {
    "tags": []
   },
   "outputs": [
    {
     "data": {
      "application/vnd.jupyter.widget-view+json": {
       "model_id": "26417e6465d249c1a65a3676d94dc0e5",
       "version_major": 2,
       "version_minor": 0
      },
      "text/plain": [
       "  0%|          | 0/8 [00:00<?, ?it/s]"
      ]
     },
     "metadata": {},
     "output_type": "display_data"
    }
   ],
   "source": [
    "# time={'start_time': '2012-10-19 00:00:00', # 3-days before and after the hurricane sandy event\n",
    "#       'end_time'  : '2012-11-05 00:00:00',\n",
    "#       'output_interval': 3600,\n",
    "#       'nts': 2592,  # Number of timesteps (288 for 1 day)\n",
    "#      }\n",
    "\n",
    "# for directory in tqdm(ids_list):\n",
    "#     # select directory\n",
    "#     out_dir = Path(directory)\n",
    "    \n",
    "#     print(out_dir)\n",
    "    \n",
    "#     cfe_atts_path = out_dir.resolve()/'config/cfe_noahowp_attributes.csv'\n",
    "    \n",
    "#     r.create_cfe_realization(out_dir/'config',\n",
    "#                          cfe_atts_path,\n",
    "#                          time=time,\n",
    "#                          config_path=Path(out_dir.resolve()/'config'),\n",
    "#                          forcing_path=Path(out_dir.resolve()/'forcings'),\n",
    "#                          troute_path=Path(out_dir.resolve()/'config/ngen.yaml'),\n",
    "#                          binary_path=Path('/opt/shared')\n",
    "#                         )"
   ]
  },
  {
   "cell_type": "code",
   "execution_count": 12,
   "id": "275cadb8-3496-473c-b830-cef501bec099",
   "metadata": {},
   "outputs": [],
   "source": [
    "def create_cfe_realizations(ids_list, time, r):\n",
    "    \"\"\"\n",
    "    Function to Create CFE Realizations for Each Directory in ids_list\n",
    "\n",
    "    This function iterates over each directory specified in the ids_list, and for each one,\n",
    "    it creates a CFE realization by calling the 'create_cfe_realization' method on the 'r' object.\n",
    "    The time parameters for the realization are passed in via the 'time' dictionary. The function\n",
    "    assumes that the necessary files and directories are in the correct locations relative to each\n",
    "    specified directory.\n",
    "    \n",
    "    Parameters:\n",
    "    ids_list (list of str): List of directory names.\n",
    "    time (dict): Dictionary with time parameters.\n",
    "    r (unknown type): Object with a method create_cfe_realization.\n",
    "    \"\"\"\n",
    "    # Loop over each directory in the ids_list\n",
    "    for directory in tqdm(ids_list):\n",
    "        # Convert the directory string to a Path object\n",
    "        out_dir = Path(directory)\n",
    "        \n",
    "        # Print the directory being processed\n",
    "        print(out_dir)\n",
    "        \n",
    "        # Build the absolute path to the 'cfe_noahowp_attributes.csv' file in the 'config' subdirectory\n",
    "        cfe_atts_path = out_dir.resolve()/'config/cfe_noahowp_attributes.csv'\n",
    "        \n",
    "        # Call the create_cfe_realization method on the r object,\n",
    "        # passing in the appropriate paths and time parameters\n",
    "        r.create_cfe_realization(out_dir/'config',\n",
    "                             cfe_atts_path,\n",
    "                             time=time,\n",
    "                             config_path=Path(out_dir.resolve()/'config'),\n",
    "                             forcing_path=Path(out_dir.resolve()/'forcings'),\n",
    "                             troute_path=Path(out_dir.resolve()/'config/ngen.yaml'),\n",
    "                             binary_path=Path('/opt/shared')\n",
    "                            )"
   ]
  },
  {
   "cell_type": "code",
   "execution_count": 13,
   "id": "b90ac1d1-69fd-4ae9-a3ad-a28bbb3c9a1a",
   "metadata": {},
   "outputs": [
    {
     "data": {
      "application/vnd.jupyter.widget-view+json": {
       "model_id": "b919525d6e6a4964ab3da988288040bc",
       "version_major": 2,
       "version_minor": 0
      },
      "text/plain": [
       "  0%|          | 0/8 [00:00<?, ?it/s]"
      ]
     },
     "metadata": {},
     "output_type": "display_data"
    },
    {
     "name": "stdout",
     "output_type": "stream",
     "text": [
      "wb-694856\n",
      "wb-694725\n",
      "wb-694855\n",
      "wb-694724\n",
      "wb-694854\n",
      "wb-694723\n",
      "wb-698891\n",
      "wb-694722\n"
     ]
    }
   ],
   "source": [
    "# Define the time parameters\n",
    "time={'start_time': '2012-10-19 00:00:00', # 3-days before and after the hurricane sandy event\n",
    "      'end_time'  : '2012-11-05 00:00:00',\n",
    "      'output_interval': 3600,\n",
    "      'nts': 2592,  # Number of timesteps (288 for 1 day)\n",
    "     }\n",
    "\n",
    "# List of directories to process\n",
    "ids_list = ['wb-694856', 'wb-694725', 'wb-694855', 'wb-694724', 'wb-694854', 'wb-694723', 'wb-698891', 'wb-694722']\n",
    "\n",
    "# Call the function, passing in the directories list, time parameters, and r object\n",
    "create_cfe_realizations(ids_list, time, r)"
   ]
  },
  {
   "cell_type": "markdown",
   "id": "7374f4ce-4cd7-4501-8ed6-22b82e6cd67b",
   "metadata": {},
   "source": [
    "**Aditional step**: Activate and run the following code cell to modify realization files or NextGen In A Box usage."
   ]
  },
  {
   "cell_type": "code",
   "execution_count": null,
   "id": "650cc997-ba3c-49be-9307-f9985e932e89",
   "metadata": {},
   "outputs": [],
   "source": [
    "# %%bash\n",
    "\n",
    "# wb_id=wb-2917533\n",
    "\n",
    "# sed -i \"s+/home/jovyan/data/notebooks/ngen/${wb_id}+/ngen/ngen/data+g\" ./${wb_id}/config/realization.json\n",
    "# sed -i \"s+/home/jovyan/data/notebooks/ngen/${wb_id}+/ngen/ngen/data+g\" ./${wb_id}/config/ngen.yaml"
   ]
  }
 ],
 "metadata": {
  "kernelspec": {
   "display_name": "Python [conda env:root] *",
   "language": "python",
   "name": "conda-root-py"
  },
  "language_info": {
   "codemirror_mode": {
    "name": "ipython",
    "version": 3
   },
   "file_extension": ".py",
   "mimetype": "text/x-python",
   "name": "python",
   "nbconvert_exporter": "python",
   "pygments_lexer": "ipython3",
   "version": "3.9.16"
  }
 },
 "nbformat": 4,
 "nbformat_minor": 5
}
